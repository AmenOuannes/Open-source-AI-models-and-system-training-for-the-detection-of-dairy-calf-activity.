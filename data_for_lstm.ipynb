{
 "cells": [
  {
   "cell_type": "code",
   "execution_count": 87,
   "id": "c404f7e3-dfee-45e1-849c-2b3ade28e432",
   "metadata": {
    "tags": []
   },
   "outputs": [
    {
     "data": {
      "text/plain": [
       "'\\nFile : data_for_lstm.ipynb\\nCreated by : Amen Ouannes\\nBrief : preparing the full dataset and adapting it to LSTM further modifications\\n\\n'"
      ]
     },
     "execution_count": 87,
     "metadata": {},
     "output_type": "execute_result"
    }
   ],
   "source": [
    "\"\"\"\n",
    "File : data_for_lstm.ipynb\n",
    "Created by : Amen Ouannes\n",
    "Brief : preparing the full dataset and adapting it to LSTM further modifications\n",
    "\n",
    "\"\"\""
   ]
  },
  {
   "cell_type": "code",
   "execution_count": 57,
   "id": "7117324d-8a3f-41e7-9c79-b56690180162",
   "metadata": {
    "tags": []
   },
   "outputs": [
    {
     "name": "stdout",
     "output_type": "stream",
     "text": [
      "/data/amen/amen_env/data_processing\n"
     ]
    }
   ],
   "source": [
    "#import libraries\n",
    "import data_O as clean\n",
    "import RV_tools as tools\n",
    "import AX3_tools as ax3\n",
    "import importlib\n",
    "import os as os\n",
    "import pandas as pd\n",
    "import pickle as pk\n",
    "import numpy as np\n",
    "import pyarrow.feather as feather\n",
    "from datetime import datetime\n",
    "importlib.reload(tools)\n",
    "importlib.reload(ax3)\n",
    "print(os.getcwd())"
   ]
  },
  {
   "cell_type": "markdown",
   "id": "3147c523-79db-4992-88b6-5b8de1263257",
   "metadata": {
    "tags": []
   },
   "source": [
    "### Ruuvi data treatement"
   ]
  },
  {
   "cell_type": "code",
   "execution_count": 58,
   "id": "32673205-4f99-45be-b6a6-fddc7dbe99e7",
   "metadata": {
    "tags": []
   },
   "outputs": [],
   "source": [
    "filenames = [\"/data/amen/amen_env/data_processing/data/0405_1.csv\",\"/data/amen/amen_env/data_processing/data/0405_2.csv\",\n",
    "             \"/data/amen/amen_env/data_processing/data/0405_3.csv\",\"/data/amen/amen_env/data_processing/data/0405_4.csv\",\n",
    "             \"/data/amen/amen_env/data_processing/data/0505_1.csv\",\"/data/amen/amen_env/data_processing/data/0505_2.csv\",\n",
    "             \"/data/amen/amen_env/data_processing/data/0505_3.csv\",\"/data/amen/amen_env/data_processing/data/0505_4.csv\",\n",
    "             \"/data/amen/amen_env/data_processing/data/0605_1.csv\",\"/data/amen/amen_env/data_processing/data/0605_2.csv\",\n",
    "             \"/data/amen/amen_env/data_processing/data/0605_3.csv\",\"/data/amen/amen_env/data_processing/data/0605_4.csv\",\n",
    "             \"/data/amen/amen_env/data_processing/data/0705_1.csv\",\"/data/amen/amen_env/data_processing/data/0705_2.csv\",\n",
    "             \"/data/amen/amen_env/data_processing/data/0705_3.csv\",\"/data/amen/amen_env/data_processing/data/0705_4.csv\",\n",
    "             \"/data/amen/amen_env/data_processing/data/0805_1.csv\",\"/data/amen/amen_env/data_processing/data/0805_2.csv\",\n",
    "             \"/data/amen/amen_env/data_processing/data/0805_3.csv\",\"/data/amen/amen_env/data_processing/data/0805_4.csv\",\n",
    "             \"/data/amen/amen_env/data_processing/data/0905_1.csv\",\"/data/amen/amen_env/data_processing/data/0905_2.csv\",\n",
    "             \"/data/amen/amen_env/data_processing/data/0905_3.csv\",\"/data/amen/amen_env/data_processing/data/0905_4.csv\",\n",
    "             \"/data/amen/amen_env/data_processing/data/1005_1.csv\",\"/data/amen/amen_env/data_processing/data/1005_2.csv\",\n",
    "             \"/data/amen/amen_env/data_processing/data/1005_3.csv\",\"/data/amen/amen_env/data_processing/data/1005_4.csv\",\n",
    "             \"/data/amen/amen_env/data_processing/data/1105_1.csv\"]\n",
    "macs= {\"D1:B6:FC:34:99:3A\" : 7480, \"F4:CC:E1:C5:8A:A9\" :8855,\n",
    "       \"FB:E5:24:5B:8A:68\" : 8851, \"D0:C9:50:5E:88:F8\" :8846, \"D3:6B:03:69:94:4E\" : 8854}"
   ]
  },
  {
   "cell_type": "code",
   "execution_count": 59,
   "id": "21f8d1ab-5b0b-429c-85bb-a7433400cf67",
   "metadata": {
    "tags": []
   },
   "outputs": [],
   "source": [
    "#state the list of calves\n",
    "calf_4 = \"D1:B6:FC:34:99:3A\"\n",
    "calf_11 = \"D0:C9:50:5E:88:F8\"\n",
    "calf_7 = \"F4:CC:E1:C5:8A:A9\"\n",
    "calf_3 = \"FB:E5:24:5B:8A:68\"\n",
    "calf_1 = \"D3:6B:03:69:94:4E\"\n",
    "#create a dictionnary to contain all of my calves\n",
    "calves = {calf_1 : pd.DataFrame(), calf_4 : pd.DataFrame(), calf_11 : pd.DataFrame()\n",
    "          , calf_7 : pd.DataFrame(), calf_3 : pd.DataFrame()}"
   ]
  },
  {
   "cell_type": "code",
   "execution_count": 60,
   "id": "c1ad296a-1548-4386-8d08-8f71663b2536",
   "metadata": {
    "tags": []
   },
   "outputs": [
    {
     "name": "stdout",
     "output_type": "stream",
     "text": [
      "ruuvi data ready!\n"
     ]
    }
   ],
   "source": [
    "### Prepare the ruuvi data for concatenation\n",
    "for filename in filenames:\n",
    "    #create a clean dataframe\n",
    "    data = clean.processing(filename)\n",
    "    #classify new data by calf\n",
    "    calves = tools.classify(data, calves)\n",
    "\n",
    "print(\"ruuvi data ready!\")"
   ]
  },
  {
   "cell_type": "code",
   "execution_count": 61,
   "id": "dc493531-51d2-4420-91f1-fae3277970fd",
   "metadata": {
    "tags": []
   },
   "outputs": [
    {
     "data": {
      "text/html": [
       "<div>\n",
       "<style scoped>\n",
       "    .dataframe tbody tr th:only-of-type {\n",
       "        vertical-align: middle;\n",
       "    }\n",
       "\n",
       "    .dataframe tbody tr th {\n",
       "        vertical-align: top;\n",
       "    }\n",
       "\n",
       "    .dataframe thead th {\n",
       "        text-align: right;\n",
       "    }\n",
       "</style>\n",
       "<table border=\"1\" class=\"dataframe\">\n",
       "  <thead>\n",
       "    <tr style=\"text-align: right;\">\n",
       "      <th></th>\n",
       "      <th>time</th>\n",
       "      <th>acc_x</th>\n",
       "      <th>acc_y</th>\n",
       "      <th>acc_z</th>\n",
       "      <th>st_dev_x</th>\n",
       "      <th>st_dev_y</th>\n",
       "      <th>st_dev_z</th>\n",
       "      <th>ax_dynamic</th>\n",
       "      <th>ay_dynamic</th>\n",
       "      <th>az_dynamic</th>\n",
       "      <th>calfNumber</th>\n",
       "    </tr>\n",
       "  </thead>\n",
       "  <tbody>\n",
       "    <tr>\n",
       "      <th>0</th>\n",
       "      <td>2024-05-04 00:00:00</td>\n",
       "      <td>-0.4440</td>\n",
       "      <td>-0.040000</td>\n",
       "      <td>-0.932000</td>\n",
       "      <td>0.015319</td>\n",
       "      <td>0.009238</td>\n",
       "      <td>0.008000</td>\n",
       "      <td>0.344703</td>\n",
       "      <td>-0.001977</td>\n",
       "      <td>-1.015600</td>\n",
       "      <td>8854</td>\n",
       "    </tr>\n",
       "    <tr>\n",
       "      <th>1</th>\n",
       "      <td>2024-05-04 00:00:01</td>\n",
       "      <td>-0.4368</td>\n",
       "      <td>-0.036800</td>\n",
       "      <td>-0.924800</td>\n",
       "      <td>0.007729</td>\n",
       "      <td>0.007729</td>\n",
       "      <td>0.014703</td>\n",
       "      <td>0.351903</td>\n",
       "      <td>0.001223</td>\n",
       "      <td>-1.008400</td>\n",
       "      <td>8854</td>\n",
       "    </tr>\n",
       "    <tr>\n",
       "      <th>2</th>\n",
       "      <td>2024-05-04 00:00:02</td>\n",
       "      <td>-0.4460</td>\n",
       "      <td>-0.030000</td>\n",
       "      <td>-0.926000</td>\n",
       "      <td>0.005657</td>\n",
       "      <td>0.010254</td>\n",
       "      <td>0.013352</td>\n",
       "      <td>0.342703</td>\n",
       "      <td>0.008023</td>\n",
       "      <td>-1.009600</td>\n",
       "      <td>8854</td>\n",
       "    </tr>\n",
       "    <tr>\n",
       "      <th>3</th>\n",
       "      <td>2024-05-04 00:00:03</td>\n",
       "      <td>-0.4320</td>\n",
       "      <td>-0.036923</td>\n",
       "      <td>-0.916923</td>\n",
       "      <td>0.006532</td>\n",
       "      <td>0.007686</td>\n",
       "      <td>0.010087</td>\n",
       "      <td>0.356703</td>\n",
       "      <td>0.001100</td>\n",
       "      <td>-1.000523</td>\n",
       "      <td>8854</td>\n",
       "    </tr>\n",
       "    <tr>\n",
       "      <th>4</th>\n",
       "      <td>2024-05-04 00:00:04</td>\n",
       "      <td>-0.4400</td>\n",
       "      <td>-0.035200</td>\n",
       "      <td>-0.929600</td>\n",
       "      <td>0.011314</td>\n",
       "      <td>0.010119</td>\n",
       "      <td>0.011806</td>\n",
       "      <td>0.348703</td>\n",
       "      <td>0.002823</td>\n",
       "      <td>-1.013200</td>\n",
       "      <td>8854</td>\n",
       "    </tr>\n",
       "  </tbody>\n",
       "</table>\n",
       "</div>"
      ],
      "text/plain": [
       "                 time   acc_x     acc_y     acc_z  st_dev_x  st_dev_y  \\\n",
       "0 2024-05-04 00:00:00 -0.4440 -0.040000 -0.932000  0.015319  0.009238   \n",
       "1 2024-05-04 00:00:01 -0.4368 -0.036800 -0.924800  0.007729  0.007729   \n",
       "2 2024-05-04 00:00:02 -0.4460 -0.030000 -0.926000  0.005657  0.010254   \n",
       "3 2024-05-04 00:00:03 -0.4320 -0.036923 -0.916923  0.006532  0.007686   \n",
       "4 2024-05-04 00:00:04 -0.4400 -0.035200 -0.929600  0.011314  0.010119   \n",
       "\n",
       "   st_dev_z  ax_dynamic  ay_dynamic  az_dynamic calfNumber  \n",
       "0  0.008000    0.344703   -0.001977   -1.015600       8854  \n",
       "1  0.014703    0.351903    0.001223   -1.008400       8854  \n",
       "2  0.013352    0.342703    0.008023   -1.009600       8854  \n",
       "3  0.010087    0.356703    0.001100   -1.000523       8854  \n",
       "4  0.011806    0.348703    0.002823   -1.013200       8854  "
      ]
     },
     "execution_count": 61,
     "metadata": {},
     "output_type": "execute_result"
    }
   ],
   "source": [
    "for key, value in calves.items():\n",
    "    # filter raw data and generate features\n",
    "    calves[key] = tools.filter(value)\n",
    "    \n",
    "    #change macs to id\n",
    "    calves[key].rename(columns={'mac': 'calfNumber'}, inplace = True)\n",
    "    calves[key]=calves[key].replace(macs)\n",
    "    \n",
    "calves[calf_1].head()"
   ]
  },
  {
   "cell_type": "code",
   "execution_count": 62,
   "id": "942efc1b-b353-4f85-bd63-917dd5db15dc",
   "metadata": {
    "tags": []
   },
   "outputs": [
    {
     "name": "stdout",
     "output_type": "stream",
     "text": [
      "assertion is correct!\n",
      "length of the calf D3:6B:03:69:94:4E : 577736\n",
      "length of the calf D1:B6:FC:34:99:3A : 585956\n",
      "length of the calf D0:C9:50:5E:88:F8 : 583621\n",
      "length of the calf F4:CC:E1:C5:8A:A9 : 584282\n",
      "length of the calf FB:E5:24:5B:8A:68 : 584209\n"
     ]
    }
   ],
   "source": [
    "#Ensure the existence of all accelerations\n",
    "for key, value in calves.items():\n",
    "    nan_rows = value[value.isna().any(axis=1)]\n",
    "    assert(len(nan_rows)==0)\n",
    "print('assertion is correct!')\n",
    "for key, value in calves.items():\n",
    "    print(f'length of the calf {key} : {len(value)}')"
   ]
  },
  {
   "cell_type": "code",
   "execution_count": 63,
   "id": "cf20407c-ed08-4336-8a42-5bc9deae04ea",
   "metadata": {
    "tags": []
   },
   "outputs": [
    {
     "name": "stdout",
     "output_type": "stream",
     "text": [
      "Missing data due to the inactivity of the ruuvi sensors in multiple times\n",
      "missing data for calf D3:6B:03:69:94:4E : 27065\n",
      "missing data for calf D1:B6:FC:34:99:3A : 18845\n",
      "missing data for calf D0:C9:50:5E:88:F8 : 21180\n",
      "missing data for calf F4:CC:E1:C5:8A:A9 : 20519\n",
      "missing data for calf FB:E5:24:5B:8A:68 : 20592\n"
     ]
    }
   ],
   "source": [
    "assert(len(calves[calf_1]) < 7*24*3600) #number of seconds collected is less than the optimal number of seconds\n",
    "print(\"Missing data due to the inactivity of the ruuvi sensors in multiple times\")\n",
    "for key, value in calves.items():\n",
    "    print(f'missing data for calf {key} : {7*24*3600 + 1 - len(value)}')"
   ]
  },
  {
   "cell_type": "markdown",
   "id": "bf77009e-340f-4d5a-bbc7-09e1e741aa0f",
   "metadata": {
    "jp-MarkdownHeadingCollapsed": true,
    "tags": []
   },
   "source": [
    "### AX3 data version 1"
   ]
  },
  {
   "cell_type": "code",
   "execution_count": 67,
   "id": "23b18bce-3a50-4a2b-b686-c073089444f2",
   "metadata": {
    "tags": []
   },
   "outputs": [],
   "source": [
    "#extract data from AX3 files \n",
    "AX3 = {}\n",
    "AX3[calf_4] = pd.read_csv(\"/data/amen/amen_env/data_processing/data/79404_0000000000.cwa.up.down.hmm.sec.tab\", sep='\\t')\n",
    "AX3[calf_7] = pd.read_csv(\"/data/amen/amen_env/data_processing/data/78620_0000000000.cwa.up.down.hmm.sec.tab\", sep='\\t')\n",
    "AX3[calf_3] = pd.read_csv(\"/data/amen/amen_env/data_processing/data/80625_0000000000.cwa.up.down.hmm.sec.tab\", sep='\\t')\n",
    "AX3[calf_11] = pd.read_csv(\"/data/amen/amen_env/data_processing/data/82291_0000000000.cwa.up.down.hmm.sec.tab\", sep='\\t')\n",
    "AX3[calf_1] = pd.read_csv(\"/data/amen/amen_env/data_processing/data/79959_0000000000.cwa.up.down.hmm.sec.tab\", sep='\\t')\n"
   ]
  },
  {
   "cell_type": "code",
   "execution_count": 68,
   "id": "9cd82d38-f9ee-4244-acf3-9d2d342a9fc2",
   "metadata": {
    "tags": []
   },
   "outputs": [
    {
     "data": {
      "text/html": [
       "<div>\n",
       "<style scoped>\n",
       "    .dataframe tbody tr th:only-of-type {\n",
       "        vertical-align: middle;\n",
       "    }\n",
       "\n",
       "    .dataframe tbody tr th {\n",
       "        vertical-align: top;\n",
       "    }\n",
       "\n",
       "    .dataframe thead th {\n",
       "        text-align: right;\n",
       "    }\n",
       "</style>\n",
       "<table border=\"1\" class=\"dataframe\">\n",
       "  <thead>\n",
       "    <tr style=\"text-align: right;\">\n",
       "      <th></th>\n",
       "      <th>time</th>\n",
       "      <th>state</th>\n",
       "      <th>calfNumber</th>\n",
       "    </tr>\n",
       "  </thead>\n",
       "  <tbody>\n",
       "    <tr>\n",
       "      <th>719520</th>\n",
       "      <td>2024-05-04 00:00:00</td>\n",
       "      <td>down</td>\n",
       "      <td>8854</td>\n",
       "    </tr>\n",
       "    <tr>\n",
       "      <th>719521</th>\n",
       "      <td>2024-05-04 00:00:01</td>\n",
       "      <td>down</td>\n",
       "      <td>8854</td>\n",
       "    </tr>\n",
       "    <tr>\n",
       "      <th>719522</th>\n",
       "      <td>2024-05-04 00:00:02</td>\n",
       "      <td>down</td>\n",
       "      <td>8854</td>\n",
       "    </tr>\n",
       "    <tr>\n",
       "      <th>719523</th>\n",
       "      <td>2024-05-04 00:00:03</td>\n",
       "      <td>down</td>\n",
       "      <td>8854</td>\n",
       "    </tr>\n",
       "    <tr>\n",
       "      <th>719524</th>\n",
       "      <td>2024-05-04 00:00:04</td>\n",
       "      <td>down</td>\n",
       "      <td>8854</td>\n",
       "    </tr>\n",
       "  </tbody>\n",
       "</table>\n",
       "</div>"
      ],
      "text/plain": [
       "                      time state  calfNumber\n",
       "719520 2024-05-04 00:00:00  down        8854\n",
       "719521 2024-05-04 00:00:01  down        8854\n",
       "719522 2024-05-04 00:00:02  down        8854\n",
       "719523 2024-05-04 00:00:03  down        8854\n",
       "719524 2024-05-04 00:00:04  down        8854"
      ]
     },
     "execution_count": 68,
     "metadata": {},
     "output_type": "execute_result"
    }
   ],
   "source": [
    "list_id = [7480, 8855, 8851, 8846, 8854]\n",
    "i = 0\n",
    "for key, value in AX3.items():\n",
    "    AX3[key] = ax3.apply(value, list_id[i])\n",
    "    i += 1\n",
    "\n",
    "AX3[calf_1].head()"
   ]
  },
  {
   "cell_type": "markdown",
   "id": "514599b4-5a7a-4462-b1df-91ad3c6b3a71",
   "metadata": {
    "tags": []
   },
   "source": [
    "### AX3 data version 2"
   ]
  },
  {
   "cell_type": "code",
   "execution_count": 66,
   "id": "71f6c73c-feac-4822-a5af-4e4ba0fb8edf",
   "metadata": {
    "tags": []
   },
   "outputs": [],
   "source": [
    "#extract data from AX3 files \n",
    "AX3 = {}\n",
    "AX3[calf_4] = feather.read_table(\"/data/amen/amen_env/data_processing/data/79404_0000000000.cwa.sec.hmm.sec.feather\")\n",
    "AX3[calf_7] = feather.read_table(\"/data/amen/amen_env/data_processing/data/78620_0000000000.cwa.sec.hmm.sec.feather\")\n",
    "AX3[calf_3] = feather.read_table(\"/data/amen/amen_env/data_processing/data/80625_0000000000.cwa.sec.hmm.sec.feather\")\n",
    "AX3[calf_11] = feather.read_table(\"/data/amen/amen_env/data_processing/data/82291_0000000000.cwa.sec.hmm.sec.feather\")\n",
    "AX3[calf_1] = feather.read_table(\"/data/amen/amen_env/data_processing/data/79959_0000000000.cwa.sec.hmm.sec.feather\")"
   ]
  },
  {
   "cell_type": "code",
   "execution_count": null,
   "id": "476f56ef-394a-4052-8c91-8bf9c0455448",
   "metadata": {},
   "outputs": [],
   "source": [
    "list_id = [7480, 8855, 8851, 8846, 8854]\n",
    "i = 0\n",
    "for key, value in AX3.items():\n",
    "    temp = ax3.treat(value)\n",
    "    temp['calfNumber'] = list_id[i]\n",
    "    temp = clean.trunc(temp, \"2024-05-04 00:00:00.0\", \"2024-05-11 00:00:00.0\")\n",
    "    i += 1\n",
    "    AX3[key] = temp\n",
    "print(AX3[calf_1]['state'].value_counts())"
   ]
  },
  {
   "cell_type": "code",
   "execution_count": 69,
   "id": "18a6e845-e5a2-4b2a-bb8e-5c9438b6f521",
   "metadata": {
    "tags": []
   },
   "outputs": [
    {
     "name": "stdout",
     "output_type": "stream",
     "text": [
      "assertion is correct!\n",
      "length of the calf D1:B6:FC:34:99:3A : 604801\n",
      "length of the calf F4:CC:E1:C5:8A:A9 : 604801\n",
      "length of the calf FB:E5:24:5B:8A:68 : 604801\n",
      "length of the calf D0:C9:50:5E:88:F8 : 604801\n",
      "length of the calf D3:6B:03:69:94:4E : 604801\n",
      "no missing data!\n"
     ]
    }
   ],
   "source": [
    "for key, value in AX3.items():\n",
    "    nan_rows = value[value.isna().any(axis=1)] #be sure there's no missing values\n",
    "    assert(len(nan_rows)==0)\n",
    "print('assertion is correct!')\n",
    "for key, value in AX3.items():\n",
    "    print(f'length of the calf {key} : {len(value)}')\n",
    "print('no missing data!')    "
   ]
  },
  {
   "cell_type": "markdown",
   "id": "49d2c6d9-4ea9-4d8e-9b1b-e91ac30074d8",
   "metadata": {
    "tags": []
   },
   "source": [
    "### DAL data treatement"
   ]
  },
  {
   "cell_type": "code",
   "execution_count": 70,
   "id": "72e64915-ea87-40b8-9981-b1eb85536478",
   "metadata": {
    "tags": []
   },
   "outputs": [
    {
     "name": "stdout",
     "output_type": "stream",
     "text": [
      "                      time calfNumber  state\n",
      "0      2024-05-04 04:13:15       8851  drink\n",
      "1      2024-05-04 04:13:16       8851  drink\n",
      "2      2024-05-04 04:13:17       8851  drink\n",
      "3      2024-05-04 04:13:18       8851  drink\n",
      "4      2024-05-04 04:13:19       8851  drink\n",
      "...                    ...        ...    ...\n",
      "193248 2024-05-10 21:03:34       8855  drink\n",
      "193249 2024-05-10 21:03:35       8855  drink\n",
      "193250 2024-05-10 21:03:36       8855  drink\n",
      "193251 2024-05-10 21:03:37       8855  drink\n",
      "193252 2024-05-10 21:03:38       8855  drink\n",
      "\n",
      "[193253 rows x 3 columns]\n"
     ]
    }
   ],
   "source": [
    "with open('DAL.pkl', 'rb') as f:\n",
    "    DAL = pk.load(f)\n",
    "\n",
    "DAL['state'] = 'drink'\n",
    "print(DAL)"
   ]
  },
  {
   "cell_type": "code",
   "execution_count": 86,
   "id": "39880ba9-bbcb-46ea-ae30-13e0a23cd267",
   "metadata": {
    "tags": []
   },
   "outputs": [
    {
     "name": "stdout",
     "output_type": "stream",
     "text": [
      "the degree of confusion is :15.280%\n",
      "the degree of confusion is :0.010%\n",
      "the degree of confusion is :5.796%\n",
      "the degree of confusion is :0.011%\n",
      "the degree of confusion is :0.013%\n"
     ]
    }
   ],
   "source": [
    "for key, value in AX3.items():    \n",
    "    calf = value[value['state']=='down']\n",
    "    drink_1 = DAL[DAL['calfNumber'] == macs[key]]\n",
    "    confusion = calf[calf[['time']].isin(drink_1[['time']].to_dict(orient='list')).all(axis=1)]\n",
    "    print(f'the degree of confusion is :{len(confusion)/len(calf)*100:.3f}%')"
   ]
  },
  {
   "cell_type": "markdown",
   "id": "8fc703f2-db08-4a5f-a604-e454ee7e7b5c",
   "metadata": {
    "tags": []
   },
   "source": [
    "### Merge"
   ]
  },
  {
   "cell_type": "code",
   "execution_count": 25,
   "id": "ed203175-1ccb-4a55-9aa5-b1f8ac81c491",
   "metadata": {
    "tags": []
   },
   "outputs": [],
   "source": [
    "#Merge ruuvi and DAL\n",
    "def merge_(ruuvi, AX3, DAL):\n",
    "    #merge ruuvi and dal\n",
    "    copy_ruuvi = ruuvi.copy()\n",
    "    drink = pd.merge(copy_ruuvi, DAL, on=['time', 'calfNumber'])\n",
    "    drink['state'] = 'drink'\n",
    "    \n",
    "    #merge ruuvi and AX3\n",
    "    copy_ruuvi = ruuvi.copy()\n",
    "    up_down = pd.merge(copy_ruuvi, AX3, on = ['time', 'calfNumber'])\n",
    "    #up_down['state'].replace({1: 'up', 0: 'down'}, inplace=True)\n",
    "    \n",
    "    #eliminate rows that verify drink within stand\n",
    "    drink_copy = drink.copy()\n",
    "    #up = up_down[up_down['state'] == 'up']\n",
    "    common_rows = pd.merge(drink_copy, up_down, on=['time', 'calfNumber'], how='inner')\n",
    "    #print(common_rows[common_rows['state_y'] == 'down'])\n",
    "    up_down = up_down[~up_down[['time', 'calfNumber']].isin(common_rows[['time', 'calfNumber']].to_dict(orient='list')).all(axis=1)]\n",
    "    \n",
    "    #filter the down rows together \n",
    "    #down = up_down[up_down['state'] == 'down']\n",
    "    #concatenate all\n",
    "    dataset = pd.concat([up_down, drink], ignore_index=True)\n",
    "    #print(dataset[dataset['state'] == 'drink'])\n",
    "    dataset = dataset.sort_values(by='time')\n",
    "    return dataset\n"
   ]
  },
  {
   "cell_type": "markdown",
   "id": "8d7a6f56-a570-4e60-ac57-8e71f2fa0030",
   "metadata": {},
   "source": [
    "**NEW MERGE**"
   ]
  },
  {
   "cell_type": "code",
   "execution_count": 71,
   "id": "646d6643-559e-4c96-b906-56a1cbecf9b3",
   "metadata": {
    "tags": []
   },
   "outputs": [],
   "source": [
    "def new_merge(ruuvi, ax3, drink):\n",
    "    #merge and keep the NaN values\n",
    "    data = pd.merge(ax3, ruuvi, on=['time', 'calfNumber'], how='outer')\n",
    "    #identify the rows that should have the value drink\n",
    "    mask = data['time'].isin(drink['time'])\n",
    "    \n",
    "    # Use the mask to set the 'state' to 'drink' for matching rows\n",
    "    data.loc[mask, 'state'] = 'drink'\n",
    "    assert(len(data[data.isna().any(axis=1)]) == 1+7*24*3600 -len(ruuvi)) #identify the number of missing data is also included\n",
    "    new_order = ['time', 'acc_x', 'acc_y', 'acc_z','st_dev_x', 'st_dev_y', 'st_dev_z', 'ax_dynamic', 'ay_dynamic', 'az_dynamic', 'calfNumber', 'state']\n",
    "    data_reordered = data[new_order]\n",
    "    return data_reordered"
   ]
  },
  {
   "cell_type": "code",
   "execution_count": 72,
   "id": "b15bd175-0c5c-4a9b-834c-e8a1a519ff54",
   "metadata": {
    "tags": []
   },
   "outputs": [
    {
     "name": "stdout",
     "output_type": "stream",
     "text": [
      "merge is complete!\n"
     ]
    }
   ],
   "source": [
    "i = 0\n",
    "dataset = {}\n",
    "for key, value in calves.items():\n",
    "    i += 1\n",
    "    ax3 = AX3[key]\n",
    "    drink = DAL[DAL['calfNumber'] == macs[key]]\n",
    "    #merge for each calf\n",
    "    calf = new_merge(value, ax3, drink)\n",
    "    dataset[key] = calf \n",
    "print('merge is complete!')"
   ]
  },
  {
   "cell_type": "code",
   "execution_count": 81,
   "id": "5c95e8c6-6749-4b45-a79d-eccca035fb78",
   "metadata": {
    "tags": []
   },
   "outputs": [
    {
     "data": {
      "text/html": [
       "<div>\n",
       "<style scoped>\n",
       "    .dataframe tbody tr th:only-of-type {\n",
       "        vertical-align: middle;\n",
       "    }\n",
       "\n",
       "    .dataframe tbody tr th {\n",
       "        vertical-align: top;\n",
       "    }\n",
       "\n",
       "    .dataframe thead th {\n",
       "        text-align: right;\n",
       "    }\n",
       "</style>\n",
       "<table border=\"1\" class=\"dataframe\">\n",
       "  <thead>\n",
       "    <tr style=\"text-align: right;\">\n",
       "      <th></th>\n",
       "      <th>time</th>\n",
       "      <th>acc_x</th>\n",
       "      <th>acc_y</th>\n",
       "      <th>acc_z</th>\n",
       "      <th>st_dev_x</th>\n",
       "      <th>st_dev_y</th>\n",
       "      <th>st_dev_z</th>\n",
       "      <th>ax_dynamic</th>\n",
       "      <th>ay_dynamic</th>\n",
       "      <th>az_dynamic</th>\n",
       "      <th>calfNumber</th>\n",
       "      <th>state</th>\n",
       "    </tr>\n",
       "  </thead>\n",
       "  <tbody>\n",
       "    <tr>\n",
       "      <th>0</th>\n",
       "      <td>2024-05-04 00:00:00</td>\n",
       "      <td>-0.4440</td>\n",
       "      <td>-0.040000</td>\n",
       "      <td>-0.932000</td>\n",
       "      <td>0.015319</td>\n",
       "      <td>0.009238</td>\n",
       "      <td>0.008000</td>\n",
       "      <td>0.344703</td>\n",
       "      <td>-0.001977</td>\n",
       "      <td>-1.015600</td>\n",
       "      <td>8854</td>\n",
       "      <td>down</td>\n",
       "    </tr>\n",
       "    <tr>\n",
       "      <th>1</th>\n",
       "      <td>2024-05-04 00:00:01</td>\n",
       "      <td>-0.4368</td>\n",
       "      <td>-0.036800</td>\n",
       "      <td>-0.924800</td>\n",
       "      <td>0.007729</td>\n",
       "      <td>0.007729</td>\n",
       "      <td>0.014703</td>\n",
       "      <td>0.351903</td>\n",
       "      <td>0.001223</td>\n",
       "      <td>-1.008400</td>\n",
       "      <td>8854</td>\n",
       "      <td>down</td>\n",
       "    </tr>\n",
       "    <tr>\n",
       "      <th>2</th>\n",
       "      <td>2024-05-04 00:00:02</td>\n",
       "      <td>-0.4460</td>\n",
       "      <td>-0.030000</td>\n",
       "      <td>-0.926000</td>\n",
       "      <td>0.005657</td>\n",
       "      <td>0.010254</td>\n",
       "      <td>0.013352</td>\n",
       "      <td>0.342703</td>\n",
       "      <td>0.008023</td>\n",
       "      <td>-1.009600</td>\n",
       "      <td>8854</td>\n",
       "      <td>down</td>\n",
       "    </tr>\n",
       "    <tr>\n",
       "      <th>3</th>\n",
       "      <td>2024-05-04 00:00:03</td>\n",
       "      <td>-0.4320</td>\n",
       "      <td>-0.036923</td>\n",
       "      <td>-0.916923</td>\n",
       "      <td>0.006532</td>\n",
       "      <td>0.007686</td>\n",
       "      <td>0.010087</td>\n",
       "      <td>0.356703</td>\n",
       "      <td>0.001100</td>\n",
       "      <td>-1.000523</td>\n",
       "      <td>8854</td>\n",
       "      <td>down</td>\n",
       "    </tr>\n",
       "    <tr>\n",
       "      <th>4</th>\n",
       "      <td>2024-05-04 00:00:04</td>\n",
       "      <td>-0.4400</td>\n",
       "      <td>-0.035200</td>\n",
       "      <td>-0.929600</td>\n",
       "      <td>0.011314</td>\n",
       "      <td>0.010119</td>\n",
       "      <td>0.011806</td>\n",
       "      <td>0.348703</td>\n",
       "      <td>0.002823</td>\n",
       "      <td>-1.013200</td>\n",
       "      <td>8854</td>\n",
       "      <td>down</td>\n",
       "    </tr>\n",
       "  </tbody>\n",
       "</table>\n",
       "</div>"
      ],
      "text/plain": [
       "                 time   acc_x     acc_y     acc_z  st_dev_x  st_dev_y  \\\n",
       "0 2024-05-04 00:00:00 -0.4440 -0.040000 -0.932000  0.015319  0.009238   \n",
       "1 2024-05-04 00:00:01 -0.4368 -0.036800 -0.924800  0.007729  0.007729   \n",
       "2 2024-05-04 00:00:02 -0.4460 -0.030000 -0.926000  0.005657  0.010254   \n",
       "3 2024-05-04 00:00:03 -0.4320 -0.036923 -0.916923  0.006532  0.007686   \n",
       "4 2024-05-04 00:00:04 -0.4400 -0.035200 -0.929600  0.011314  0.010119   \n",
       "\n",
       "   st_dev_z  ax_dynamic  ay_dynamic  az_dynamic calfNumber state  \n",
       "0  0.008000    0.344703   -0.001977   -1.015600       8854  down  \n",
       "1  0.014703    0.351903    0.001223   -1.008400       8854  down  \n",
       "2  0.013352    0.342703    0.008023   -1.009600       8854  down  \n",
       "3  0.010087    0.356703    0.001100   -1.000523       8854  down  \n",
       "4  0.011806    0.348703    0.002823   -1.013200       8854  down  "
      ]
     },
     "execution_count": 81,
     "metadata": {},
     "output_type": "execute_result"
    }
   ],
   "source": [
    "dataset[calf_1].head()"
   ]
  },
  {
   "cell_type": "markdown",
   "id": "fdd6babc-f321-4ce3-8249-7eda2a5f77eb",
   "metadata": {},
   "source": [
    "**Multiple non consistent and big interval prevent from applying a linear interpolation \n",
    "So we use a filler function that fills NaN values with generic values related to the states**"
   ]
  },
  {
   "cell_type": "code",
   "execution_count": 77,
   "id": "8207edb8-02e9-4ae4-a333-14e64ca07d8c",
   "metadata": {
    "tags": []
   },
   "outputs": [],
   "source": [
    "def filler(df):\n",
    "    # Define the columns to be filled and the time column\n",
    "    numeric_cols = ['acc_x', 'acc_y', 'acc_z','st_dev_x', 'st_dev_y', 'st_dev_z', 'ax_dynamic', 'ay_dynamic', 'az_dynamic']\n",
    "    time_col = 'time'  # Replace 'time' with the actual name of your time column\n",
    "    \n",
    "    # Convert only numeric columns to numeric, leaving non-numeric and time columns intact\n",
    "    df[numeric_cols] = df[numeric_cols].apply(pd.to_numeric, errors='coerce')\n",
    "\n",
    "    # Separate data by state\n",
    "    drink = df[df['state'] == 'drink']\n",
    "    up = df[df['state'] == 'up']\n",
    "    down = df[df['state'] == 'down']\n",
    "    \n",
    "    # Calculate mean for each state\n",
    "    drink_row = drink[numeric_cols].mean()\n",
    "    up_row = up[numeric_cols].mean()\n",
    "    down_row = down[numeric_cols].mean()\n",
    "    \n",
    "    # Fill NaN values with the mean of respective states\n",
    "    df.loc[df['state'] == 'drink', numeric_cols] = df[df['state'] == 'drink'][numeric_cols].fillna(drink_row)\n",
    "    df.loc[df['state'] == 'up', numeric_cols] = df[df['state'] == 'up'][numeric_cols].fillna(up_row)\n",
    "    df.loc[df['state'] == 'down', numeric_cols] = df[df['state'] == 'down'][numeric_cols].fillna(down_row)\n",
    "    \n",
    "    # Verify there's no more empty rows\n",
    "    assert(len(df[df.isna().any(axis=1)]) == 0)\n",
    "    \n",
    "    return df"
   ]
  },
  {
   "cell_type": "code",
   "execution_count": 78,
   "id": "fcecb340-0820-4838-8716-871f8198707f",
   "metadata": {
    "tags": []
   },
   "outputs": [
    {
     "name": "stdout",
     "output_type": "stream",
     "text": [
      "0\n",
      "0\n",
      "0\n",
      "0\n",
      "0\n"
     ]
    }
   ],
   "source": [
    "for key, value in dataset.items():\n",
    "    dataset[key] = filler(value)"
   ]
  },
  {
   "cell_type": "code",
   "execution_count": 85,
   "id": "d983a678-6e3b-477f-b150-d62ff8e5f30b",
   "metadata": {
    "tags": []
   },
   "outputs": [
    {
     "name": "stdout",
     "output_type": "stream",
     "text": [
      "D3:6B:03:69:94:4E: (604801, 12)\n",
      "D1:B6:FC:34:99:3A: (604801, 12)\n",
      "D0:C9:50:5E:88:F8: (604801, 12)\n",
      "F4:CC:E1:C5:8A:A9: (604801, 12)\n",
      "FB:E5:24:5B:8A:68: (604801, 12)\n"
     ]
    }
   ],
   "source": [
    "for key, value in dataset.items():\n",
    "    print(f\"{key}: {value.shape}\")"
   ]
  },
  {
   "cell_type": "markdown",
   "id": "aa7288be-fda0-46ee-9e5f-96a947bc7da5",
   "metadata": {
    "jp-MarkdownHeadingCollapsed": true,
    "tags": []
   },
   "source": [
    "### Save the respective dataset"
   ]
  },
  {
   "cell_type": "code",
   "execution_count": 26,
   "id": "77fcc229-dbdf-49da-8e00-f891a26555d9",
   "metadata": {
    "tags": []
   },
   "outputs": [],
   "source": [
    "#full dataset\n",
    "with open('full_dataset.pkl','wb') as f:\n",
    "    pk.dump(dataset,f)"
   ]
  },
  {
   "cell_type": "code",
   "execution_count": 73,
   "id": "3debbdc9-902f-4779-9422-fa9d66ebf689",
   "metadata": {
    "tags": []
   },
   "outputs": [],
   "source": [
    "#One minute regroupement dataset\n",
    "with open('dataset_min.pkl', 'wb') as f :\n",
    "    pk.dump(dataset, f)"
   ]
  },
  {
   "cell_type": "code",
   "execution_count": 54,
   "id": "1873b2c9-38a6-4164-b21c-bf4bb5840d17",
   "metadata": {
    "tags": []
   },
   "outputs": [],
   "source": [
    "#5 min regroupement dataset\n",
    "with open('dataset_5min.pkl', 'wb') as f :\n",
    "    pk.dump(dataset, f)"
   ]
  },
  {
   "cell_type": "code",
   "execution_count": 80,
   "id": "e31c15f0-ef06-4ea5-b25e-34cb07b935c2",
   "metadata": {
    "tags": []
   },
   "outputs": [],
   "source": [
    "#AX3 version1 dataset\n",
    "with open('full_datasetv1.pkl', 'wb') as f:\n",
    "    pk.dump(dataset, f)"
   ]
  }
 ],
 "metadata": {
  "kernelspec": {
   "display_name": "Python (amen_env)",
   "language": "python",
   "name": "amen_env"
  },
  "language_info": {
   "codemirror_mode": {
    "name": "ipython",
    "version": 3
   },
   "file_extension": ".py",
   "mimetype": "text/x-python",
   "name": "python",
   "nbconvert_exporter": "python",
   "pygments_lexer": "ipython3",
   "version": "3.10.12"
  }
 },
 "nbformat": 4,
 "nbformat_minor": 5
}
