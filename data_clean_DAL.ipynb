{
 "cells": [
  {
   "cell_type": "code",
   "execution_count": 1,
   "id": "002d769e-0fd5-4069-a92b-700be3b4fb5a",
   "metadata": {
    "tags": []
   },
   "outputs": [
    {
     "data": {
      "text/plain": [
       "'\\nFile : data_clean_DAL.ipynb\\nCreated by : Amen Ouannes\\nBrief : preparing the data from DAL sensor to be used to the training\\n\\n'"
      ]
     },
     "execution_count": 1,
     "metadata": {},
     "output_type": "execute_result"
    }
   ],
   "source": [
    "\"\"\"\n",
    "File : data_clean_DAL.ipynb\n",
    "Created by : Amen Ouannes\n",
    "Brief : preparing the data from DAL sensor to be used to the training\n",
    "\n",
    "\"\"\""
   ]
  },
  {
   "cell_type": "code",
   "execution_count": 3,
   "id": "575188f5-7488-4b2b-a3ea-6869f4de65c3",
   "metadata": {
    "tags": []
   },
   "outputs": [
    {
     "name": "stdout",
     "output_type": "stream",
     "text": [
      "/data/amen/amen_env/data_processing\n"
     ]
    }
   ],
   "source": [
    "#import libraries\n",
    "import data_O as tool\n",
    "import os as os\n",
    "import pandas as pd\n",
    "import pickle as pk\n",
    "import matplotlib.pyplot as plt\n",
    "import numpy as np\n",
    "from datetime import datetime, timedelta\n",
    "from dateutil import tz\n",
    "print(os.getcwd())"
   ]
  },
  {
   "cell_type": "code",
   "execution_count": 4,
   "id": "5b6edceb-8cd8-4932-b502-87dce54259bc",
   "metadata": {
    "tags": []
   },
   "outputs": [
    {
     "name": "stdout",
     "output_type": "stream",
     "text": [
      "<class 'pandas.core.frame.DataFrame'>\n",
      "RangeIndex: 24124 entries, 0 to 24123\n",
      "Data columns (total 27 columns):\n",
      " #   Column             Non-Null Count  Dtype  \n",
      "---  ------             --------------  -----  \n",
      " 0   calfNumber         24124 non-null  int64  \n",
      " 1   feedingDay         24124 non-null  int64  \n",
      " 2   feeder             24124 non-null  int64  \n",
      " 3   feederLong         24124 non-null  object \n",
      " 4   initial            24124 non-null  object \n",
      " 5   group              24124 non-null  object \n",
      " 6   station            15127 non-null  float64\n",
      " 7   Station            24124 non-null  int64  \n",
      " 8   date               24124 non-null  object \n",
      " 9   Activity           24124 non-null  int64  \n",
      " 10  ActivityAfter      24124 non-null  int64  \n",
      " 11  ActivityDrinking   24124 non-null  int64  \n",
      " 12  Additive_1         24124 non-null  int64  \n",
      " 13  Additive_2         24124 non-null  int64  \n",
      " 14  Consumption        24124 non-null  int64  \n",
      " 15  correctionDays     24124 non-null  int64  \n",
      " 16  Duration           24124 non-null  int64  \n",
      " 17  Electrolyte        24124 non-null  int64  \n",
      " 18  Entitlement        24124 non-null  int64  \n",
      " 19  FITActiveTomorrow  24124 non-null  int64  \n",
      " 20  localDate          24124 non-null  object \n",
      " 21  ScaleValid         24124 non-null  bool   \n",
      " 22  ScaleValidFlag     24124 non-null  int64  \n",
      " 23  Type               24124 non-null  object \n",
      " 24  Weight             24124 non-null  int64  \n",
      " 25  _id                24124 non-null  object \n",
      " 26  calf               24124 non-null  object \n",
      "dtypes: bool(1), float64(1), int64(17), object(8)\n",
      "memory usage: 4.8+ MB\n"
     ]
    }
   ],
   "source": [
    "#extract data from DAL sensors\n",
    "data = pd.read_csv(\"/data/amen/amen_env/data_processing/data/visits_point.csv\", sep =';')\n",
    "data.info()"
   ]
  },
  {
   "cell_type": "code",
   "execution_count": 13,
   "id": "4013052c-9b56-4585-b9c4-ef84d3153232",
   "metadata": {},
   "outputs": [],
   "source": [
    "#trunc data for only the calves whom will be used for the study\n",
    "data = data[data['calfNumber'].isin([8854, 8851, 7480, 8855, 8846])]"
   ]
  },
  {
   "cell_type": "code",
   "execution_count": 14,
   "id": "f6688484-36c3-42c3-8649-237bf8ba26e7",
   "metadata": {},
   "outputs": [
    {
     "name": "stdout",
     "output_type": "stream",
     "text": [
      "(2770, 6)\n"
     ]
    }
   ],
   "source": [
    "#reduce useless columns\n",
    "data.drop(['Activity', 'ActivityAfter', 'ActivityDrinking','initial',\n",
    "          'Additive_1', 'Additive_2', 'Electrolyte', 'date', 'FITActiveTomorrow',\n",
    "          'ScaleValid', 'ScaleValidFlag', 'Weight', 'group','feeder', 'feederLong',\n",
    "           'feedingDay', 'correctionDays',\n",
    "           'station', 'Station', '_id', 'calf'], axis = 1, inplace = True)\n",
    "print(data.shape)"
   ]
  },
  {
   "cell_type": "code",
   "execution_count": 5,
   "id": "cc406f74-90ed-4c8f-979f-8bb7ca3d22e1",
   "metadata": {},
   "outputs": [
    {
     "name": "stdout",
     "output_type": "stream",
     "text": [
      "       calfNumber  Consumption  Duration  Entitlement            localDate\n",
      "1            8846          550       491         2450  2024-04-07T19:55:29\n",
      "55           8846          550       423         3000  2024-04-07T18:45:41\n",
      "66           7480         3000       674         3000  2024-04-07T18:32:27\n",
      "119          8855         2000       662         3000  2024-04-07T16:32:11\n",
      "163          8855            0       374         3000  2024-04-07T15:37:54\n",
      "...           ...          ...       ...          ...                  ...\n",
      "23417        8855         1665       561         1665  2024-05-21T08:04:50\n",
      "23613        8855          840       140          840  2024-05-20T20:27:20\n",
      "23757        8855         1680       416         1680  2024-05-20T15:13:45\n",
      "23930        8855         1680       208         1680  2024-05-20T07:24:35\n",
      "24108        8855         1200       206         1200  2024-05-19T20:22:32\n",
      "\n",
      "[1419 rows x 5 columns]\n"
     ]
    }
   ],
   "source": [
    "#Dropping all the passing-by without consumption data, could get rid of the type column\n",
    "data = data[data['Type'] =='wEnt']\n",
    "data.drop(['Type'], axis = 1, inplace = True)\n",
    "print(data)"
   ]
  },
  {
   "cell_type": "code",
   "execution_count": 15,
   "id": "56a39e59-080b-4d2b-a08c-283278a5e59e",
   "metadata": {},
   "outputs": [
    {
     "name": "stdout",
     "output_type": "stream",
     "text": [
      "<class 'str'>\n",
      "<class 'pandas._libs.tslibs.timestamps.Timestamp'>\n"
     ]
    }
   ],
   "source": [
    "#converting the localDate to timestamp for display purposes\n",
    "print(type(data.iloc[1]['localDate']))\n",
    "data['localDate'] = pd.to_datetime(data['localDate'])\n",
    "print(type(data.iloc[1]['localDate']))"
   ]
  },
  {
   "cell_type": "code",
   "execution_count": 16,
   "id": "b1522556-539a-4201-b83a-f87f29ad1fa3",
   "metadata": {
    "scrolled": true
   },
   "outputs": [
    {
     "name": "stdout",
     "output_type": "stream",
     "text": [
      "       calfNumber  Consumption  Duration  Entitlement           localDate  \\\n",
      "15239        8855            0         0            0 2024-05-04 00:24:30   \n",
      "15233        8855            0         0            0 2024-05-04 00:42:09   \n",
      "15226        8854            0         0            0 2024-05-04 01:10:37   \n",
      "15225        8854            0         0            0 2024-05-04 01:21:52   \n",
      "15224        8855            0         0            0 2024-05-04 02:27:51   \n",
      "...           ...          ...       ...          ...                 ...   \n",
      "17717        8846            0         0            0 2024-05-10 21:30:56   \n",
      "17712        7480            0         0            0 2024-05-10 21:40:21   \n",
      "17705        8851            0         0            0 2024-05-10 22:10:00   \n",
      "17704        8855            0         0            0 2024-05-10 22:27:37   \n",
      "17703        8846            0         0            0 2024-05-10 23:16:27   \n",
      "\n",
      "        Type  \n",
      "15239  woEnt  \n",
      "15233  woEnt  \n",
      "15226  woEnt  \n",
      "15225  woEnt  \n",
      "15224  woEnt  \n",
      "...      ...  \n",
      "17717  woEnt  \n",
      "17712  woEnt  \n",
      "17705  woEnt  \n",
      "17704  woEnt  \n",
      "17703  woEnt  \n",
      "\n",
      "[613 rows x 6 columns]\n"
     ]
    }
   ],
   "source": [
    "#let's take the data only between 4 and 10th May\n",
    "dt1 = \"2024-05-04T00:00:00\"\n",
    "dt2 = \"2024-05-11T00:00:00\"\n",
    "data.sort_values(by='localDate', inplace=True)\n",
    "# Filter the DataFrame to include rows between dt1 and dt2\n",
    "data = data[(data['localDate'] >= dt1) & (data['localDate'] < dt2)]\n",
    "print(data)"
   ]
  },
  {
   "cell_type": "code",
   "execution_count": 8,
   "id": "45de21df-3b36-4687-b738-3e8451c5895e",
   "metadata": {},
   "outputs": [],
   "source": [
    "#Eliminate stops without drinking:\n",
    "data = data[data['Consumption'] != 0]"
   ]
  },
  {
   "cell_type": "code",
   "execution_count": 17,
   "id": "bbfb2e95-9557-43e9-ac5b-fe08f6a0342f",
   "metadata": {},
   "outputs": [
    {
     "name": "stdout",
     "output_type": "stream",
     "text": [
      "38650 total of sequences, 63.0 drinking sequences per visit\n"
     ]
    }
   ],
   "source": [
    "#Calculate the full duration of drinking\n",
    "Data_span = data['Duration'].sum()\n",
    "Data_mean = data['Duration'].mean()\n",
    "print(f\"{Data_span//(5)} total of sequences, {Data_mean//5} drinking sequences per visit\")"
   ]
  },
  {
   "cell_type": "code",
   "execution_count": 18,
   "id": "ba48fefb-1204-4499-829d-610b24a4702d",
   "metadata": {},
   "outputs": [
    {
     "name": "stderr",
     "output_type": "stream",
     "text": [
      "/tmp/ipykernel_959191/2252559877.py:13: FutureWarning: The behavior of DataFrame concatenation with empty or all-NA entries is deprecated. In a future version, this will no longer exclude empty or all-NA columns when determining the result dtypes. To retain the old behavior, exclude the relevant entries before the concat operation.\n",
      "  DAL = pd.concat([DAL, new_row], ignore_index=True)\n"
     ]
    },
    {
     "name": "stdout",
     "output_type": "stream",
     "text": [
      "                      time calfNumber state\n",
      "0      2024-05-04 04:13:15       8851     1\n",
      "1      2024-05-04 04:13:16       8851     1\n",
      "2      2024-05-04 04:13:17       8851     1\n",
      "3      2024-05-04 04:13:18       8851     1\n",
      "4      2024-05-04 04:13:19       8851     1\n",
      "...                    ...        ...   ...\n",
      "193248 2024-05-10 21:03:34       8855     1\n",
      "193249 2024-05-10 21:03:35       8855     1\n",
      "193250 2024-05-10 21:03:36       8855     1\n",
      "193251 2024-05-10 21:03:37       8855     1\n",
      "193252 2024-05-10 21:03:38       8855     1\n",
      "\n",
      "[193253 rows x 3 columns]\n"
     ]
    }
   ],
   "source": [
    "#Create a new dataframe that contains the true values of drinking for the training\n",
    "DAL = pd.DataFrame(columns = ['time','calfNumber', 'state'])\n",
    "for j in range(len(data)):\n",
    "    duration = (data.iloc[j]['Duration'])\n",
    "    time = data.iloc[j]['localDate']\n",
    "    calf = data.iloc[j]['calfNumber']\n",
    "    #looping for the duration of one drink event with 2 seconds intervals\n",
    "    for seconds in range(0, duration, 1):  \n",
    "        new_row = pd.DataFrame([\n",
    "            {'time': time + timedelta(seconds=seconds),\n",
    "             'calfNumber' : calf, 'state': 1}\n",
    "        ])\n",
    "        DAL = pd.concat([DAL, new_row], ignore_index=True)\n",
    "\n",
    "        \n",
    "DAL.shape\n",
    "print(DAL)"
   ]
  },
  {
   "cell_type": "code",
   "execution_count": 19,
   "id": "b3b60a8e-54ae-4a02-9683-8fdd94d051f5",
   "metadata": {},
   "outputs": [],
   "source": [
    "tool.download(DAL, \"DAL.pkl\")"
   ]
  }
 ],
 "metadata": {
  "kernelspec": {
   "display_name": "Python (amen_env)",
   "language": "python",
   "name": "amen_env"
  },
  "language_info": {
   "codemirror_mode": {
    "name": "ipython",
    "version": 3
   },
   "file_extension": ".py",
   "mimetype": "text/x-python",
   "name": "python",
   "nbconvert_exporter": "python",
   "pygments_lexer": "ipython3",
   "version": "3.10.12"
  }
 },
 "nbformat": 4,
 "nbformat_minor": 5
}
