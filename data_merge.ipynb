{
 "cells": [
  {
   "cell_type": "code",
   "execution_count": 1,
   "id": "9164abad-4c99-4190-b9ca-c551b54e4bb8",
   "metadata": {
    "tags": []
   },
   "outputs": [
    {
     "data": {
      "text/plain": [
       "'\\nFile : data_merge.ipynb\\nCreated by : Amen Ouannes\\nBrief : Create the dataset for the training\\n\\n'"
      ]
     },
     "execution_count": 1,
     "metadata": {},
     "output_type": "execute_result"
    }
   ],
   "source": [
    "\"\"\"\n",
    "File : data_merge.ipynb\n",
    "Created by : Amen Ouannes\n",
    "Brief : Create the dataset for the training\n",
    "\n",
    "\"\"\""
   ]
  },
  {
   "cell_type": "code",
   "execution_count": 1,
   "id": "9e078edb-5110-4042-a73f-d15d4ac70948",
   "metadata": {
    "tags": []
   },
   "outputs": [
    {
     "name": "stdout",
     "output_type": "stream",
     "text": [
      "/data/amen/amen_env/data_processing\n"
     ]
    }
   ],
   "source": [
    "#import libraries\n",
    "import data_O as tool\n",
    "import os as os\n",
    "import pandas as pd\n",
    "import pickle as pk\n",
    "from datetime import datetime, timedelta\n",
    "print(os.getcwd())"
   ]
  },
  {
   "cell_type": "code",
   "execution_count": 2,
   "id": "83586802-a747-425d-a3c7-87389c872cf6",
   "metadata": {
    "tags": []
   },
   "outputs": [],
   "source": [
    "#associate macs to calf numbers\n",
    "macs= {\"D1:B6:FC:34:99:3A\" : 7480, \"F4:CC:E1:C5:8A:A9\" :8855,\n",
    "       \"FB:E5:24:5B:8A:68\" : 8851, \"D0:C9:50:5E:88:F8\" :8846, \"D3:6B:03:69:94:4E\" : 8854}"
   ]
  },
  {
   "cell_type": "code",
   "execution_count": 3,
   "id": "73dbaa24-4f66-4b63-8d12-41d7dc31c90a",
   "metadata": {
    "tags": []
   },
   "outputs": [],
   "source": [
    "#extract data from pickles \n",
    "with open(\"DAL.pkl\", 'rb') as f:\n",
    "    DAL = pk.load(f)\n",
    "with open(\"dataset.pkl\", 'rb') as f:\n",
    "    calf_1 = pk.load(f)\n",
    "    calf_4 = pk.load(f)\n",
    "    calf_11 = pk.load(f)\n",
    "    calf_7 = pk.load(f)\n",
    "    calf_3 = pk.load(f)\n",
    "with open('AX3.pkl', 'rb') as f:\n",
    "    AX3 = pk.load(f)"
   ]
  },
  {
   "cell_type": "code",
   "execution_count": 4,
   "id": "137539f7-f465-4d71-b335-15a5c7cf40ff",
   "metadata": {
    "tags": []
   },
   "outputs": [
    {
     "name": "stdout",
     "output_type": "stream",
     "text": [
      "data concatenated successfully\n"
     ]
    }
   ],
   "source": [
    "#concat all the calves in one dataframe\n",
    "ruuvi = pd.concat([calf_1, calf_4, calf_11, calf_7, calf_3], ignore_index=True)\n",
    "assert (len(ruuvi) == len(calf_1) + len(calf_4) + len(calf_11) + len(calf_7) + len(calf_3))\n",
    "print(\"data concatenated successfully\")"
   ]
  },
  {
   "cell_type": "code",
   "execution_count": 5,
   "id": "86db877a-9202-4e94-b723-21be47bcd2bb",
   "metadata": {
    "tags": []
   },
   "outputs": [
    {
     "name": "stdout",
     "output_type": "stream",
     "text": [
      "calfNumber\n",
      "7480    585956\n",
      "8855    584282\n",
      "8851    584209\n",
      "8846    583621\n",
      "8854    577736\n",
      "Name: count, dtype: int64\n"
     ]
    }
   ],
   "source": [
    "# add a column that contains the calfnumber based on the mac addresses\n",
    "ruuvi['calfNumber'] = ruuvi['mac'].map(macs)\n",
    "print(ruuvi['calfNumber'].value_counts())"
   ]
  },
  {
   "cell_type": "code",
   "execution_count": 6,
   "id": "ca39da7a-4517-4172-bb0f-6b7cbbe7aa7e",
   "metadata": {
    "tags": []
   },
   "outputs": [
    {
     "name": "stdout",
     "output_type": "stream",
     "text": [
      "                      time     acc_x     acc_y     acc_z  st_dev_x  st_dev_y  \\\n",
      "0      2024-05-04 05:42:29 -0.996800 -0.144000  0.110400  0.243009  0.242065   \n",
      "1      2024-05-04 05:42:30 -1.034182 -0.119273  0.024727  0.265163  0.118522   \n",
      "2      2024-05-04 05:42:31 -0.966000 -0.312000  0.078000  0.142580  0.107161   \n",
      "3      2024-05-04 05:42:32 -0.969333 -0.418667 -0.002667  0.117864  0.054080   \n",
      "4      2024-05-04 05:42:33 -0.988444 -0.416000 -0.010667  0.144173  0.050596   \n",
      "...                    ...       ...       ...       ...       ...       ...   \n",
      "180476 2024-05-10 20:04:08 -0.931200  0.192000  0.131200  0.159964  0.141710   \n",
      "180477 2024-05-10 20:04:09 -0.926545  0.372364  0.062545  0.097968  0.277321   \n",
      "180478 2024-05-10 20:04:10 -0.871111  0.412444 -0.017778  0.273772  0.195596   \n",
      "180479 2024-05-10 20:04:11 -0.830222  0.570667 -0.174222  0.133493  0.126491   \n",
      "180480 2024-05-10 20:04:12 -0.875200  0.492800 -0.134400  0.140915  0.103637   \n",
      "\n",
      "        st_dev_z     var_x     var_y     var_z  ...  static_acc_x  \\\n",
      "0       0.182342  0.059054  0.058596  0.033249  ...     -1.014757   \n",
      "1       0.123597  0.070312  0.014047  0.015276  ...     -0.999327   \n",
      "2       0.096924  0.020329  0.011483  0.009394  ...     -0.984994   \n",
      "3       0.104326  0.013892  0.002925  0.010884  ...     -0.976699   \n",
      "4       0.057689  0.020786  0.002560  0.003328  ...     -0.972299   \n",
      "...          ...       ...       ...       ...  ...           ...   \n",
      "180476  0.192266  0.025589  0.020082  0.036966  ...     -0.940534   \n",
      "180477  0.165576  0.009598  0.076907  0.027415  ...     -0.914603   \n",
      "180478  0.249601  0.074951  0.038258  0.062300  ...     -0.874587   \n",
      "180479  0.133733  0.017820  0.016000  0.017884  ...     -0.846318   \n",
      "180480  0.138708  0.019857  0.010741  0.019240  ...     -0.850698   \n",
      "\n",
      "        static_acc_y  static_acc_z      OBDA     VeDBA      roll     pitch  \\\n",
      "0          -0.226787      0.107525  0.235062  0.340875 -0.916714  1.390735   \n",
      "1          -0.158015      0.075824  0.265193  0.385602 -1.366375  1.453554   \n",
      "2          -0.250388      0.033163  0.326388  0.456874 -1.325818  1.249416   \n",
      "3          -0.411869      0.004501  0.430069  0.647541  1.564427  1.163078   \n",
      "4          -0.462527      0.007522  0.437778  0.671985  1.545161  1.172317   \n",
      "...              ...           ...       ...       ...       ...       ...   \n",
      "180476      0.246717      0.087769  0.209299  0.356600  0.971344  1.326075   \n",
      "180477      0.342178      0.081751  0.378114  0.600964  1.404381  1.183829   \n",
      "180478      0.448459     -0.040582  0.450290  0.665933 -1.527720  1.128239   \n",
      "180479      0.502566     -0.149821  0.671384  0.956852 -1.274488  0.947639   \n",
      "180480      0.519012     -0.117786  0.588473  0.867000 -1.304544  1.042496   \n",
      "\n",
      "                      mac  calfNumber  state  \n",
      "0       D3:6B:03:69:94:4E        8854  drink  \n",
      "1       D3:6B:03:69:94:4E        8854  drink  \n",
      "2       D3:6B:03:69:94:4E        8854  drink  \n",
      "3       D3:6B:03:69:94:4E        8854  drink  \n",
      "4       D3:6B:03:69:94:4E        8854  drink  \n",
      "...                   ...         ...    ...  \n",
      "180476  FB:E5:24:5B:8A:68        8851  drink  \n",
      "180477  FB:E5:24:5B:8A:68        8851  drink  \n",
      "180478  FB:E5:24:5B:8A:68        8851  drink  \n",
      "180479  FB:E5:24:5B:8A:68        8851  drink  \n",
      "180480  FB:E5:24:5B:8A:68        8851  drink  \n",
      "\n",
      "[180481 rows x 30 columns]\n",
      "                       time     acc_x     acc_y     acc_z  st_dev_x  st_dev_y  \\\n",
      "0       2024-05-04 00:00:00 -0.444000 -0.040000 -0.932000  0.015319  0.009238   \n",
      "1       2024-05-04 00:00:01 -0.436800 -0.036800 -0.924800  0.007729  0.007729   \n",
      "2       2024-05-04 00:00:02 -0.446000 -0.030000 -0.926000  0.005657  0.010254   \n",
      "3       2024-05-04 00:00:03 -0.432000 -0.036923 -0.916923  0.006532  0.007686   \n",
      "4       2024-05-04 00:00:04 -0.440000 -0.035200 -0.929600  0.011314  0.010119   \n",
      "...                     ...       ...       ...       ...       ...       ...   \n",
      "2915799 2024-05-10 23:59:56 -0.678400  0.350400  0.601600  0.015457  0.019156   \n",
      "2915800 2024-05-10 23:59:57 -0.679111  0.339556  0.606222  0.014111  0.017487   \n",
      "2915801 2024-05-10 23:59:58 -0.699200  0.296000  0.569600  0.109833  0.161284   \n",
      "2915802 2024-05-10 23:59:59 -0.667200  0.328000  0.617600  0.020027  0.017282   \n",
      "2915803 2024-05-11 00:00:00 -0.659200  0.345600  0.624000  0.013387  0.014311   \n",
      "\n",
      "         st_dev_z     var_x     var_y     var_z  ...  static_acc_x  \\\n",
      "0        0.008000  0.000235  0.000085  0.000064  ...     -0.443998   \n",
      "1        0.014703  0.000060  0.000060  0.000216  ...     -0.441728   \n",
      "2        0.013352  0.000032  0.000105  0.000178  ...     -0.438884   \n",
      "3        0.010087  0.000043  0.000059  0.000102  ...     -0.437194   \n",
      "4        0.011806  0.000128  0.000102  0.000139  ...     -0.438545   \n",
      "...           ...       ...       ...       ...  ...           ...   \n",
      "2915799  0.015457  0.000239  0.000367  0.000239  ...     -0.678420   \n",
      "2915800  0.016865  0.000199  0.000306  0.000284  ...     -0.686039   \n",
      "2915801  0.144335  0.012063  0.026012  0.020833  ...     -0.686987   \n",
      "2915802  0.015457  0.000401  0.000299  0.000239  ...     -0.676935   \n",
      "2915803  0.016000  0.000179  0.000205  0.000256  ...     -0.659186   \n",
      "\n",
      "         static_acc_y  static_acc_z      OBDA     VeDBA      roll     pitch  \\\n",
      "0           -0.040001     -0.932004  1.072505  1.362279  0.042892  0.444229   \n",
      "1           -0.034861     -0.926090  1.068039  1.361525  0.039771  0.440953   \n",
      "2           -0.032727     -0.922045  1.066209  1.360325  0.032386  0.448648   \n",
      "3           -0.034440     -0.922443  1.062207  1.358325  0.040247  0.439983   \n",
      "4           -0.037537     -0.926408  1.071529  1.364725  0.037848  0.441801   \n",
      "...               ...           ...       ...       ...       ...       ...   \n",
      "2915799      0.344562      0.604750  0.455933  0.762068  0.527413  0.772445   \n",
      "2915800      0.329813      0.593337  0.452529  0.755135  0.510578  0.773950   \n",
      "2915801      0.312857      0.590059  0.393326  0.654868  0.479254  0.828083   \n",
      "2915802      0.316963      0.601688  0.458624  0.766868  0.488208  0.761915   \n",
      "2915803      0.345606      0.624025  0.476254  0.798868  0.505791  0.745992   \n",
      "\n",
      "                       mac  calfNumber  state  \n",
      "0        D3:6B:03:69:94:4E        8854   down  \n",
      "1        D3:6B:03:69:94:4E        8854   down  \n",
      "2        D3:6B:03:69:94:4E        8854   down  \n",
      "3        D3:6B:03:69:94:4E        8854   down  \n",
      "4        D3:6B:03:69:94:4E        8854   down  \n",
      "...                    ...         ...    ...  \n",
      "2915799  FB:E5:24:5B:8A:68        8851   down  \n",
      "2915800  FB:E5:24:5B:8A:68        8851   down  \n",
      "2915801  FB:E5:24:5B:8A:68        8851   down  \n",
      "2915802  FB:E5:24:5B:8A:68        8851   down  \n",
      "2915803  FB:E5:24:5B:8A:68        8851   down  \n",
      "\n",
      "[2915804 rows x 30 columns]\n"
     ]
    },
    {
     "name": "stderr",
     "output_type": "stream",
     "text": [
      "/tmp/ipykernel_2653266/2698269466.py:10: FutureWarning: A value is trying to be set on a copy of a DataFrame or Series through chained assignment using an inplace method.\n",
      "The behavior will change in pandas 3.0. This inplace method will never work because the intermediate object on which we are setting values always behaves as a copy.\n",
      "\n",
      "For example, when doing 'df[col].method(value, inplace=True)', try using 'df.method({col: value}, inplace=True)' or df[col] = df[col].method(value) instead, to perform the operation inplace on the original object.\n",
      "\n",
      "\n",
      "  up_down['state'].replace({1: 'up', 0: 'down'}, inplace=True)\n"
     ]
    },
    {
     "data": {
      "text/plain": [
       "state\n",
       "down    2055996\n",
       "up       859808\n",
       "Name: count, dtype: int64"
      ]
     },
     "execution_count": 6,
     "metadata": {},
     "output_type": "execute_result"
    }
   ],
   "source": [
    "#Merge ruuvi and DAL\n",
    "copy_ruuvi = ruuvi.copy()\n",
    "drink = pd.merge(copy_ruuvi, DAL, on=['time', 'calfNumber'])\n",
    "drink['state'] = 'drink'\n",
    "print(drink)\n",
    "#merge ruuvi and AX3\n",
    "copy_ruuvi = ruuvi.copy()\n",
    "up_down = pd.merge(copy_ruuvi, AX3, on = ['time', 'calfNumber'])\n",
    "print(up_down)\n",
    "up_down['state'].replace({1: 'up', 0: 'down'}, inplace=True)\n",
    "up_down['state'].value_counts()"
   ]
  },
  {
   "cell_type": "code",
   "execution_count": 7,
   "id": "cfa7ec4e-2d5d-458e-8e16-21f24fe95931",
   "metadata": {
    "tags": []
   },
   "outputs": [
    {
     "name": "stdout",
     "output_type": "stream",
     "text": [
      "True\n"
     ]
    }
   ],
   "source": [
    "#exist function to call with the drinking status\n",
    "def exist(data, time, calf):\n",
    "    line = data[(data['time'] == time )& (data['calfNumber'] == calf)]\n",
    "    if not line.empty:\n",
    "        return True\n",
    "    return False\n",
    "print(exist(AX3, ruuvi.iloc[1]['time'], ruuvi.iloc[1]['calfNumber']))\n",
    "#ensure data balance:\n",
    "def sample_group(group, num_samples):\n",
    "    return group.sample(n=num_samples, random_state = 581)"
   ]
  },
  {
   "cell_type": "code",
   "execution_count": 8,
   "id": "112c2acd-a035-4b3f-a1d3-01e66a7ef226",
   "metadata": {
    "tags": []
   },
   "outputs": [
    {
     "name": "stdout",
     "output_type": "stream",
     "text": [
      "                       time     acc_x     acc_y     acc_z  st_dev_x  st_dev_y  \\\n",
      "0       2024-05-04 00:00:00 -0.444000 -0.040000 -0.932000  0.015319  0.009238   \n",
      "1       2024-05-04 00:00:01 -0.436800 -0.036800 -0.924800  0.007729  0.007729   \n",
      "2       2024-05-04 00:00:02 -0.446000 -0.030000 -0.926000  0.005657  0.010254   \n",
      "3       2024-05-04 00:00:03 -0.432000 -0.036923 -0.916923  0.006532  0.007686   \n",
      "4       2024-05-04 00:00:04 -0.440000 -0.035200 -0.929600  0.011314  0.010119   \n",
      "...                     ...       ...       ...       ...       ...       ...   \n",
      "2915799 2024-05-10 23:59:56 -0.678400  0.350400  0.601600  0.015457  0.019156   \n",
      "2915800 2024-05-10 23:59:57 -0.679111  0.339556  0.606222  0.014111  0.017487   \n",
      "2915801 2024-05-10 23:59:58 -0.699200  0.296000  0.569600  0.109833  0.161284   \n",
      "2915802 2024-05-10 23:59:59 -0.667200  0.328000  0.617600  0.020027  0.017282   \n",
      "2915803 2024-05-11 00:00:00 -0.659200  0.345600  0.624000  0.013387  0.014311   \n",
      "\n",
      "         st_dev_z     var_x     var_y     var_z  ...  static_acc_x  \\\n",
      "0        0.008000  0.000235  0.000085  0.000064  ...     -0.443998   \n",
      "1        0.014703  0.000060  0.000060  0.000216  ...     -0.441728   \n",
      "2        0.013352  0.000032  0.000105  0.000178  ...     -0.438884   \n",
      "3        0.010087  0.000043  0.000059  0.000102  ...     -0.437194   \n",
      "4        0.011806  0.000128  0.000102  0.000139  ...     -0.438545   \n",
      "...           ...       ...       ...       ...  ...           ...   \n",
      "2915799  0.015457  0.000239  0.000367  0.000239  ...     -0.678420   \n",
      "2915800  0.016865  0.000199  0.000306  0.000284  ...     -0.686039   \n",
      "2915801  0.144335  0.012063  0.026012  0.020833  ...     -0.686987   \n",
      "2915802  0.015457  0.000401  0.000299  0.000239  ...     -0.676935   \n",
      "2915803  0.016000  0.000179  0.000205  0.000256  ...     -0.659186   \n",
      "\n",
      "         static_acc_y  static_acc_z      OBDA     VeDBA      roll     pitch  \\\n",
      "0           -0.040001     -0.932004  1.072505  1.362279  0.042892  0.444229   \n",
      "1           -0.034861     -0.926090  1.068039  1.361525  0.039771  0.440953   \n",
      "2           -0.032727     -0.922045  1.066209  1.360325  0.032386  0.448648   \n",
      "3           -0.034440     -0.922443  1.062207  1.358325  0.040247  0.439983   \n",
      "4           -0.037537     -0.926408  1.071529  1.364725  0.037848  0.441801   \n",
      "...               ...           ...       ...       ...       ...       ...   \n",
      "2915799      0.344562      0.604750  0.455933  0.762068  0.527413  0.772445   \n",
      "2915800      0.329813      0.593337  0.452529  0.755135  0.510578  0.773950   \n",
      "2915801      0.312857      0.590059  0.393326  0.654868  0.479254  0.828083   \n",
      "2915802      0.316963      0.601688  0.458624  0.766868  0.488208  0.761915   \n",
      "2915803      0.345606      0.624025  0.476254  0.798868  0.505791  0.745992   \n",
      "\n",
      "                       mac  calfNumber  state  \n",
      "0        D3:6B:03:69:94:4E        8854   down  \n",
      "1        D3:6B:03:69:94:4E        8854   down  \n",
      "2        D3:6B:03:69:94:4E        8854   down  \n",
      "3        D3:6B:03:69:94:4E        8854   down  \n",
      "4        D3:6B:03:69:94:4E        8854   down  \n",
      "...                    ...         ...    ...  \n",
      "2915799  FB:E5:24:5B:8A:68        8851   down  \n",
      "2915800  FB:E5:24:5B:8A:68        8851   down  \n",
      "2915801  FB:E5:24:5B:8A:68        8851   down  \n",
      "2915802  FB:E5:24:5B:8A:68        8851   down  \n",
      "2915803  FB:E5:24:5B:8A:68        8851   down  \n",
      "\n",
      "[2141923 rows x 30 columns]\n"
     ]
    }
   ],
   "source": [
    "#eliminate rows that verify drink within stand\n",
    "drink_copy = drink.copy()\n",
    "#up = up_down[up_down['state'] == 'up']\n",
    "common_rows = pd.merge(drink_copy, up_down, on=['time', 'calfNumber'], how='inner')\n",
    "up_down = up_down[~up_down[['time', 'calfNumber']].isin(common_rows[['time', 'calfNumber']].to_dict(orient='list')).all(axis=1)]\n",
    "print(up_down)\n",
    "#filter the down rows together \n",
    "#down = up_down[up_down['state'] == 'down']"
   ]
  },
  {
   "cell_type": "code",
   "execution_count": 9,
   "id": "8c0d38e8-7ad4-4401-8292-7bd82f99ad1a",
   "metadata": {
    "tags": []
   },
   "outputs": [
    {
     "name": "stdout",
     "output_type": "stream",
     "text": [
      "calfNumber\n",
      "7480    96705\n",
      "8851    54179\n",
      "8855    12814\n",
      "8854     9986\n",
      "8846     6797\n",
      "Name: count, dtype: int64\n",
      "calfNumber\n",
      "7480    6797\n",
      "8846    6797\n",
      "8851    6797\n",
      "8854    6797\n",
      "8855    6797\n",
      "Name: count, dtype: int64\n"
     ]
    },
    {
     "name": "stderr",
     "output_type": "stream",
     "text": [
      "/tmp/ipykernel_2653266/1245723858.py:4: DeprecationWarning: DataFrameGroupBy.apply operated on the grouping columns. This behavior is deprecated, and in a future version of pandas the grouping columns will be excluded from the operation. Either pass `include_groups=False` to exclude the groupings or explicitly select the grouping columns after groupby to silence this warning.\n",
      "  drink_balanced =drink.groupby('calfNumber').apply(sample_group, num_samples=length).reset_index(drop=True)\n"
     ]
    }
   ],
   "source": [
    "#ensure data balance within drink\n",
    "print(drink['calfNumber'].value_counts())\n",
    "length = len(drink[drink['calfNumber'] == 8846])\n",
    "drink_balanced =drink.groupby('calfNumber').apply(sample_group, num_samples=length).reset_index(drop=True)\n",
    "print(drink_balanced['calfNumber'].value_counts())"
   ]
  },
  {
   "cell_type": "code",
   "execution_count": 10,
   "id": "a9053398-a62d-4608-a51d-182c6e9fbec5",
   "metadata": {
    "tags": []
   },
   "outputs": [
    {
     "name": "stderr",
     "output_type": "stream",
     "text": [
      "/tmp/ipykernel_2653266/3748755512.py:7: DeprecationWarning: DataFrameGroupBy.apply operated on the grouping columns. This behavior is deprecated, and in a future version of pandas the grouping columns will be excluded from the operation. Either pass `include_groups=False` to exclude the groupings or explicitly select the grouping columns after groupby to silence this warning.\n",
      "  sampled_up = up.groupby('calfNumber').apply(sample_group, num_samples=num_samples_per_group).reset_index(drop=True)\n"
     ]
    },
    {
     "name": "stdout",
     "output_type": "stream",
     "text": [
      "calfNumber\n",
      "7480    6797\n",
      "8846    6797\n",
      "8851    6797\n",
      "8854    6797\n",
      "8855    6797\n",
      "Name: count, dtype: int64\n",
      "calfNumber\n",
      "7480    6797\n",
      "8846    6797\n",
      "8851    6797\n",
      "8854    6797\n",
      "8855    6797\n",
      "Name: count, dtype: int64\n"
     ]
    },
    {
     "name": "stderr",
     "output_type": "stream",
     "text": [
      "/tmp/ipykernel_2653266/3748755512.py:13: DeprecationWarning: DataFrameGroupBy.apply operated on the grouping columns. This behavior is deprecated, and in a future version of pandas the grouping columns will be excluded from the operation. Either pass `include_groups=False` to exclude the groupings or explicitly select the grouping columns after groupby to silence this warning.\n",
      "  sampled_down = down.groupby('calfNumber').apply(sample_group, num_samples=num_samples_per_group).reset_index(drop=True)\n"
     ]
    }
   ],
   "source": [
    "#define variables to randomize & sample\n",
    "num_samples = len(drink_balanced)\n",
    "num_samples_per_group = num_samples // 5\n",
    "\n",
    "# Perform stratified sampling for up\n",
    "up = up_down[up_down['state'] == 'up']\n",
    "sampled_up = up.groupby('calfNumber').apply(sample_group, num_samples=num_samples_per_group).reset_index(drop=True)\n",
    "print(sampled_up['calfNumber'].value_counts())\n",
    "assert (len(drink_balanced) == len(sampled_up[sampled_up['calfNumber'] == 8851])*5)\n",
    "\n",
    "# Perform stratified sampling for down\n",
    "down = up_down[up_down['state'] == 'down']\n",
    "sampled_down = down.groupby('calfNumber').apply(sample_group, num_samples=num_samples_per_group).reset_index(drop=True)\n",
    "print(sampled_down['calfNumber'].value_counts())\n",
    "assert (len(drink_balanced) == len(sampled_down[sampled_down['calfNumber'] == 7480])*5)"
   ]
  },
  {
   "cell_type": "code",
   "execution_count": 11,
   "id": "e7ef4f7c-ed53-4d8a-8a06-0e758c926709",
   "metadata": {
    "tags": []
   },
   "outputs": [
    {
     "name": "stdout",
     "output_type": "stream",
     "text": [
      "                      time     acc_x     acc_y     acc_z  st_dev_x  st_dev_y  \\\n",
      "0      2024-05-10 07:00:13 -0.934400 -0.059200  0.465600  0.063643  0.039947   \n",
      "1      2024-05-10 07:10:09 -0.836800  0.017600  0.572800  0.078038  0.034932   \n",
      "2      2024-05-09 12:58:39 -0.858667  0.176000  0.485333  0.081107  0.046772   \n",
      "3      2024-05-09 18:59:39 -0.883200  0.190400  0.462400  0.034399  0.020587   \n",
      "4      2024-05-10 11:54:14 -0.953600  0.254400  0.286400  0.056543  0.090651   \n",
      "...                    ...       ...       ...       ...       ...       ...   \n",
      "101950 2024-05-10 00:09:23 -0.629818 -0.525091  0.615273  0.010787  0.009648   \n",
      "101951 2024-05-05 13:29:11 -0.545600 -0.307200  0.792000  0.015911  0.010119   \n",
      "101952 2024-05-06 22:41:24 -0.721455 -0.477091  0.554182  0.070274  0.034180   \n",
      "101953 2024-05-08 19:54:05 -0.615273 -0.823273  0.229818  0.016572  0.016572   \n",
      "101954 2024-05-07 05:06:38 -0.668444 -0.536889  0.570667  0.017487  0.011624   \n",
      "\n",
      "        st_dev_z     var_x     var_y     var_z  ...  static_acc_x  \\\n",
      "0       0.051405  0.004050  0.001596  0.002642  ...     -0.929152   \n",
      "1       0.059294  0.006090  0.001220  0.003516  ...     -0.840681   \n",
      "2       0.071337  0.006578  0.002188  0.005089  ...     -0.881342   \n",
      "3       0.054101  0.001183  0.000424  0.002927  ...     -0.873087   \n",
      "4       0.094039  0.003197  0.008218  0.008843  ...     -0.911611   \n",
      "...          ...       ...       ...       ...  ...           ...   \n",
      "101950  0.011001  0.000116  0.000093  0.000121  ...     -0.632337   \n",
      "101951  0.013597  0.000253  0.000102  0.000185  ...     -0.545694   \n",
      "101952  0.066846  0.004938  0.001168  0.004468  ...     -0.716550   \n",
      "101953  0.014791  0.000275  0.000275  0.000219  ...     -0.619340   \n",
      "101954  0.016000  0.000306  0.000135  0.000256  ...     -0.670033   \n",
      "\n",
      "        static_acc_y  static_acc_z      OBDA     VeDBA      roll     pitch  \\\n",
      "0          -0.061701      0.471184  0.409264  0.641148 -0.126469  1.105311   \n",
      "1           0.006892      0.539676  0.393884  0.573948  0.030717  0.970321   \n",
      "2           0.176714      0.449551  0.229617  0.349948  0.347888  1.029470   \n",
      "3           0.200791      0.462499  0.209142  0.337148  0.390607  1.055602   \n",
      "4           0.261377      0.320344  0.139813  0.178119  0.726295  1.188815   \n",
      "...              ...           ...       ...       ...       ...       ...   \n",
      "101950     -0.523920      0.611846  0.391446  0.628871 -0.706481  0.661576   \n",
      "101951     -0.322838      0.783693  0.434485  0.671926 -0.370014  0.570919   \n",
      "101952     -0.477128      0.566069  0.303754  0.428144 -0.710784  0.778652   \n",
      "101953     -0.819952      0.227872  0.657626  0.933048 -1.298574  0.623911   \n",
      "101954     -0.540142      0.565966  0.371570  0.557437 -0.754910  0.706306   \n",
      "\n",
      "                      mac  calfNumber  state  \n",
      "0       D1:B6:FC:34:99:3A        7480  drink  \n",
      "1       D1:B6:FC:34:99:3A        7480  drink  \n",
      "2       D1:B6:FC:34:99:3A        7480  drink  \n",
      "3       D1:B6:FC:34:99:3A        7480  drink  \n",
      "4       D1:B6:FC:34:99:3A        7480  drink  \n",
      "...                   ...         ...    ...  \n",
      "101950  F4:CC:E1:C5:8A:A9        8855   down  \n",
      "101951  F4:CC:E1:C5:8A:A9        8855   down  \n",
      "101952  F4:CC:E1:C5:8A:A9        8855   down  \n",
      "101953  F4:CC:E1:C5:8A:A9        8855   down  \n",
      "101954  F4:CC:E1:C5:8A:A9        8855   down  \n",
      "\n",
      "[101955 rows x 30 columns]\n",
      "calfNumber  7480  8846  8851  8854  8855\n",
      "state                                   \n",
      "down        6797  6797  6797  6797  6797\n",
      "drink       6797  6797  6797  6797  6797\n",
      "up          6797  6797  6797  6797  6797\n"
     ]
    }
   ],
   "source": [
    "#Now that we are sure we did avoid any overlaps and balanced our data \n",
    "#let's concatenate all\n",
    "\n",
    "dataset = pd.concat([drink_balanced, sampled_up, sampled_down], ignore_index=True)\n",
    "print(dataset)\n",
    "dataset['state'].value_counts()\n",
    "crosstab_df = pd.crosstab(dataset['state'], dataset['calfNumber'])\n",
    "print(crosstab_df)"
   ]
  },
  {
   "cell_type": "code",
   "execution_count": 14,
   "id": "28cdebca-9cb6-4566-8655-d2f6cfaaa484",
   "metadata": {},
   "outputs": [
    {
     "name": "stdout",
     "output_type": "stream",
     "text": [
      "88415    down\n",
      "88535    down\n",
      "88564    down\n",
      "88591    down\n",
      "88596    down\n",
      "         ... \n",
      "94436    down\n",
      "94539    down\n",
      "94562    down\n",
      "94701    down\n",
      "95104    down\n",
      "Name: state, Length: 66, dtype: object\n"
     ]
    }
   ],
   "source": [
    "from datetime import datetime \n",
    "def trunc(data, dt1, dt2):\n",
    "    dt1 = datetime.strptime(dt1, \"%Y-%m-%d %H:%M:%S.%f\")\n",
    "    dt2 = datetime.strptime(dt2, \"%Y-%m-%d %H:%M:%S.%f\")\n",
    "    sample = data[(data['time'] >= dt1)\n",
    "                            & (data['time'] <= dt2)]\n",
    "    return sample\n",
    "calf1 = dataset[dataset['calfNumber'] == 8854]\n",
    "print(trunc(calf1, \"2024-05-04 02:00:00.0\", \"2024-05-04 03:00:00.0\")['state'])"
   ]
  },
  {
   "cell_type": "code",
   "execution_count": null,
   "id": "5e405859-9456-4b15-946a-7fc3a50a8713",
   "metadata": {
    "tags": []
   },
   "outputs": [],
   "source": [
    "#keep only interesting data for the train\n",
    "dataset.drop(['mac', 'calfNumber', 'time'], axis = 1, inplace = True)"
   ]
  },
  {
   "cell_type": "code",
   "execution_count": null,
   "id": "31b1a93e-8d90-47bd-af4e-4800531e1c83",
   "metadata": {
    "tags": []
   },
   "outputs": [],
   "source": [
    "print(dataset)"
   ]
  },
  {
   "cell_type": "code",
   "execution_count": null,
   "id": "5304e91c-69ea-4b4b-aa8e-924afe170c33",
   "metadata": {
    "tags": []
   },
   "outputs": [],
   "source": [
    "#Mix randomly to ensure the functionnality of train\n",
    "dataset = dataset.sample(frac= 1 , random_state=581).reset_index(drop=True)\n",
    "dataset.dropna(inplace = True)\n",
    "print(dataset)"
   ]
  },
  {
   "cell_type": "code",
   "execution_count": null,
   "id": "49d5e2ce-a326-4bb1-9137-25272673d24d",
   "metadata": {
    "tags": []
   },
   "outputs": [],
   "source": [
    "#save to pickle \n",
    "tool.download(dataset, \"train_datax.pkl\")\n",
    "dataset.to_csv(\"train_data.csv\")\n",
    "print(\"data downloaded!\")"
   ]
  }
 ],
 "metadata": {
  "kernelspec": {
   "display_name": "Python (amen_env)",
   "language": "python",
   "name": "amen_env"
  },
  "language_info": {
   "codemirror_mode": {
    "name": "ipython",
    "version": 3
   },
   "file_extension": ".py",
   "mimetype": "text/x-python",
   "name": "python",
   "nbconvert_exporter": "python",
   "pygments_lexer": "ipython3",
   "version": "3.10.12"
  }
 },
 "nbformat": 4,
 "nbformat_minor": 5
}
