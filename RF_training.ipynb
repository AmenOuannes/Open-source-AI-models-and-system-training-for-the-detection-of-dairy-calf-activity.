{
 "cells": [
  {
   "cell_type": "code",
   "execution_count": 1,
   "id": "a9360e62-858d-4cec-935c-9d0333416c3c",
   "metadata": {
    "tags": []
   },
   "outputs": [
    {
     "data": {
      "text/plain": [
       "'\\nFile : RF_training.ipynb\\nCreated by : Amen Ouannes\\nBrief : Build a random forest model and train it\\n\\n'"
      ]
     },
     "execution_count": 1,
     "metadata": {},
     "output_type": "execute_result"
    }
   ],
   "source": [
    "\"\"\"\n",
    "File : RF_training.ipynb\n",
    "Created by : Amen Ouannes\n",
    "Brief : Build a random forest model and train it\n",
    "\n",
    "\"\"\""
   ]
  },
  {
   "cell_type": "code",
   "execution_count": 2,
   "id": "df6e556c-0933-4039-b0cd-5d79c301b46e",
   "metadata": {},
   "outputs": [
    {
     "data": {
      "text/plain": [
       "<module 'ML_tools' from '/data/amen/amen_env/Ensemble learning/ML_tools.py'>"
      ]
     },
     "execution_count": 2,
     "metadata": {},
     "output_type": "execute_result"
    }
   ],
   "source": [
    "#importing libraries\n",
    "import pandas as pd\n",
    "import time\n",
    "from sklearn.ensemble import RandomForestClassifier\n",
    "from sklearn.model_selection import GridSearchCV\n",
    "import matplotlib.pyplot as plt\n",
    "import pickle as pk\n",
    "import ML_tools as tools\n",
    "import importlib\n",
    "importlib.reload(tools)"
   ]
  },
  {
   "cell_type": "markdown",
   "id": "72a71191-c871-4ab3-9fdb-fccfd77b0750",
   "metadata": {},
   "source": [
    "### Training"
   ]
  },
  {
   "cell_type": "code",
   "execution_count": 46,
   "id": "c1f1b580-97c2-4a1e-9caf-9f8d4ac0404e",
   "metadata": {
    "tags": []
   },
   "outputs": [],
   "source": [
    "#import dataset for training\n",
    "with open(\"train_datax.pkl\", 'rb') as f:    \n",
    "    dataset = pk.load(f)\n"
   ]
  },
  {
   "cell_type": "code",
   "execution_count": 3,
   "id": "2a765fa8-dbc4-45b2-b4dd-728c37fc3c31",
   "metadata": {
    "tags": []
   },
   "outputs": [],
   "source": [
    "#generate a dataframe to contain performances\n",
    "performances = pd.DataFrame(columns = ['train', 'test', 'frequency'])"
   ]
  },
  {
   "cell_type": "code",
   "execution_count": 47,
   "id": "5297f568-1968-49a0-8085-a33bb6a80a8c",
   "metadata": {
    "tags": []
   },
   "outputs": [
    {
     "data": {
      "text/html": [
       "<div>\n",
       "<style scoped>\n",
       "    .dataframe tbody tr th:only-of-type {\n",
       "        vertical-align: middle;\n",
       "    }\n",
       "\n",
       "    .dataframe tbody tr th {\n",
       "        vertical-align: top;\n",
       "    }\n",
       "\n",
       "    .dataframe thead th {\n",
       "        text-align: right;\n",
       "    }\n",
       "</style>\n",
       "<table border=\"1\" class=\"dataframe\">\n",
       "  <thead>\n",
       "    <tr style=\"text-align: right;\">\n",
       "      <th></th>\n",
       "      <th>acc_x</th>\n",
       "      <th>acc_y</th>\n",
       "      <th>acc_z</th>\n",
       "      <th>st_dev_x</th>\n",
       "      <th>st_dev_y</th>\n",
       "      <th>st_dev_z</th>\n",
       "      <th>var_x</th>\n",
       "      <th>var_y</th>\n",
       "      <th>var_z</th>\n",
       "      <th>mad_x</th>\n",
       "      <th>...</th>\n",
       "      <th>az_dynamic</th>\n",
       "      <th>static_acc_x</th>\n",
       "      <th>static_acc_y</th>\n",
       "      <th>static_acc_z</th>\n",
       "      <th>OBDA</th>\n",
       "      <th>VeDBA</th>\n",
       "      <th>roll</th>\n",
       "      <th>pitch</th>\n",
       "      <th>state</th>\n",
       "      <th>state_encoded</th>\n",
       "    </tr>\n",
       "  </thead>\n",
       "  <tbody>\n",
       "    <tr>\n",
       "      <th>0</th>\n",
       "      <td>-0.842667</td>\n",
       "      <td>-0.213333</td>\n",
       "      <td>0.453333</td>\n",
       "      <td>0.056038</td>\n",
       "      <td>0.066869</td>\n",
       "      <td>0.074131</td>\n",
       "      <td>0.003140</td>\n",
       "      <td>0.004471</td>\n",
       "      <td>0.005495</td>\n",
       "      <td>0.046222</td>\n",
       "      <td>...</td>\n",
       "      <td>0.176475</td>\n",
       "      <td>-0.849723</td>\n",
       "      <td>-0.217124</td>\n",
       "      <td>0.415455</td>\n",
       "      <td>0.336767</td>\n",
       "      <td>0.467148</td>\n",
       "      <td>-0.439843</td>\n",
       "      <td>1.034382</td>\n",
       "      <td>down</td>\n",
       "      <td>0</td>\n",
       "    </tr>\n",
       "    <tr>\n",
       "      <th>1</th>\n",
       "      <td>-0.684444</td>\n",
       "      <td>0.240000</td>\n",
       "      <td>0.670222</td>\n",
       "      <td>0.023702</td>\n",
       "      <td>0.019596</td>\n",
       "      <td>0.039553</td>\n",
       "      <td>0.000562</td>\n",
       "      <td>0.000384</td>\n",
       "      <td>0.001564</td>\n",
       "      <td>0.017383</td>\n",
       "      <td>...</td>\n",
       "      <td>0.378537</td>\n",
       "      <td>-0.686767</td>\n",
       "      <td>0.254801</td>\n",
       "      <td>0.665487</td>\n",
       "      <td>0.405316</td>\n",
       "      <td>0.566344</td>\n",
       "      <td>0.343864</td>\n",
       "      <td>0.765740</td>\n",
       "      <td>down</td>\n",
       "      <td>0</td>\n",
       "    </tr>\n",
       "    <tr>\n",
       "      <th>2</th>\n",
       "      <td>-0.848000</td>\n",
       "      <td>0.091636</td>\n",
       "      <td>0.462545</td>\n",
       "      <td>0.077398</td>\n",
       "      <td>0.076429</td>\n",
       "      <td>0.087183</td>\n",
       "      <td>0.005990</td>\n",
       "      <td>0.005841</td>\n",
       "      <td>0.007601</td>\n",
       "      <td>0.058182</td>\n",
       "      <td>...</td>\n",
       "      <td>0.185687</td>\n",
       "      <td>-0.893333</td>\n",
       "      <td>0.123907</td>\n",
       "      <td>0.438285</td>\n",
       "      <td>0.186801</td>\n",
       "      <td>0.213065</td>\n",
       "      <td>0.195581</td>\n",
       "      <td>1.063316</td>\n",
       "      <td>down</td>\n",
       "      <td>0</td>\n",
       "    </tr>\n",
       "    <tr>\n",
       "      <th>3</th>\n",
       "      <td>-0.824000</td>\n",
       "      <td>-0.420800</td>\n",
       "      <td>0.472000</td>\n",
       "      <td>0.039373</td>\n",
       "      <td>0.045286</td>\n",
       "      <td>0.058545</td>\n",
       "      <td>0.001550</td>\n",
       "      <td>0.002051</td>\n",
       "      <td>0.003428</td>\n",
       "      <td>0.033600</td>\n",
       "      <td>...</td>\n",
       "      <td>0.053730</td>\n",
       "      <td>-0.835888</td>\n",
       "      <td>-0.386284</td>\n",
       "      <td>0.459061</td>\n",
       "      <td>0.235550</td>\n",
       "      <td>0.349363</td>\n",
       "      <td>-0.728113</td>\n",
       "      <td>0.916248</td>\n",
       "      <td>drink</td>\n",
       "      <td>1</td>\n",
       "    </tr>\n",
       "    <tr>\n",
       "      <th>4</th>\n",
       "      <td>-0.968000</td>\n",
       "      <td>-0.125333</td>\n",
       "      <td>0.254667</td>\n",
       "      <td>0.060061</td>\n",
       "      <td>0.096443</td>\n",
       "      <td>0.114661</td>\n",
       "      <td>0.003607</td>\n",
       "      <td>0.009301</td>\n",
       "      <td>0.013147</td>\n",
       "      <td>0.052000</td>\n",
       "      <td>...</td>\n",
       "      <td>-0.163604</td>\n",
       "      <td>-0.973069</td>\n",
       "      <td>-0.097027</td>\n",
       "      <td>0.256775</td>\n",
       "      <td>0.289824</td>\n",
       "      <td>0.469674</td>\n",
       "      <td>-0.457345</td>\n",
       "      <td>1.285571</td>\n",
       "      <td>up</td>\n",
       "      <td>2</td>\n",
       "    </tr>\n",
       "  </tbody>\n",
       "</table>\n",
       "<p>5 rows × 28 columns</p>\n",
       "</div>"
      ],
      "text/plain": [
       "      acc_x     acc_y     acc_z  st_dev_x  st_dev_y  st_dev_z     var_x  \\\n",
       "0 -0.842667 -0.213333  0.453333  0.056038  0.066869  0.074131  0.003140   \n",
       "1 -0.684444  0.240000  0.670222  0.023702  0.019596  0.039553  0.000562   \n",
       "2 -0.848000  0.091636  0.462545  0.077398  0.076429  0.087183  0.005990   \n",
       "3 -0.824000 -0.420800  0.472000  0.039373  0.045286  0.058545  0.001550   \n",
       "4 -0.968000 -0.125333  0.254667  0.060061  0.096443  0.114661  0.003607   \n",
       "\n",
       "      var_y     var_z     mad_x  ...  az_dynamic  static_acc_x  static_acc_y  \\\n",
       "0  0.004471  0.005495  0.046222  ...    0.176475     -0.849723     -0.217124   \n",
       "1  0.000384  0.001564  0.017383  ...    0.378537     -0.686767      0.254801   \n",
       "2  0.005841  0.007601  0.058182  ...    0.185687     -0.893333      0.123907   \n",
       "3  0.002051  0.003428  0.033600  ...    0.053730     -0.835888     -0.386284   \n",
       "4  0.009301  0.013147  0.052000  ...   -0.163604     -0.973069     -0.097027   \n",
       "\n",
       "   static_acc_z      OBDA     VeDBA      roll     pitch  state  state_encoded  \n",
       "0      0.415455  0.336767  0.467148 -0.439843  1.034382   down              0  \n",
       "1      0.665487  0.405316  0.566344  0.343864  0.765740   down              0  \n",
       "2      0.438285  0.186801  0.213065  0.195581  1.063316   down              0  \n",
       "3      0.459061  0.235550  0.349363 -0.728113  0.916248  drink              1  \n",
       "4      0.256775  0.289824  0.469674 -0.457345  1.285571     up              2  \n",
       "\n",
       "[5 rows x 28 columns]"
      ]
     },
     "execution_count": 47,
     "metadata": {},
     "output_type": "execute_result"
    }
   ],
   "source": [
    "#encode my three classes into numerical classes\n",
    "dataset, label_encoder = tools.encode(dataset)\n",
    "dataset.head()"
   ]
  },
  {
   "cell_type": "code",
   "execution_count": 48,
   "id": "9ecb45b1-92b7-4764-8695-2b6a12c85cdf",
   "metadata": {
    "tags": []
   },
   "outputs": [],
   "source": [
    "#select the valuable data for the model and divide it into train and test\n",
    "f_list = ['acc_x', 'acc_y', 'acc_z','st_dev_x', 'st_dev_y', 'st_dev_z', 'ax_dynamic', 'ay_dynamic', 'az_dynamic']\n",
    "X_train, X_test, y_train, y_test = tools.generate_train(dataset, f_list)"
   ]
  },
  {
   "cell_type": "code",
   "execution_count": 32,
   "id": "52041fe1-2007-4e3a-ae78-922e1057b998",
   "metadata": {
    "tags": []
   },
   "outputs": [
    {
     "name": "stdout",
     "output_type": "stream",
     "text": [
      "state_encoded\n",
      "2    19361\n",
      "1    19288\n",
      "0    19150\n",
      "Name: count, dtype: int64\n",
      "state_encoded\n",
      "0    4928\n",
      "1    4797\n",
      "2    4725\n",
      "Name: count, dtype: int64\n"
     ]
    }
   ],
   "source": [
    "#value counts for y\n",
    "print(y_train.value_counts())\n",
    "print(y_test.value_counts())"
   ]
  },
  {
   "cell_type": "code",
   "execution_count": 49,
   "id": "3c02523d-3164-4dd1-adff-0f3cf6eb88ab",
   "metadata": {
    "tags": []
   },
   "outputs": [],
   "source": [
    "# build my randomforest model \n",
    "param_grid = tools.hypers_rf(f_list)\n",
    "improved_Model = RandomForestClassifier()\n",
    "improved_Grid = GridSearchCV(estimator = improved_Model, param_grid = param_grid,\n",
    "                             cv = 3, verbose = 1, n_jobs = 40)"
   ]
  },
  {
   "cell_type": "code",
   "execution_count": 50,
   "id": "8205603f-7cf2-4b3a-8754-c4fc4021c35b",
   "metadata": {
    "tags": []
   },
   "outputs": [
    {
     "name": "stdout",
     "output_type": "stream",
     "text": [
      "Fitting 3 folds for each of 2112 candidates, totalling 6336 fits\n",
      "Grid search took 2017.65 seconds\n"
     ]
    }
   ],
   "source": [
    "#training the model\n",
    "start_time = time.time()\n",
    "improved_Grid.fit(X_train, y_train)\n",
    "end_time = time.time()\n",
    "duration = end_time - start_time\n",
    "print(\"Grid search took {:.2f} seconds\".format(duration))\n"
   ]
  },
  {
   "cell_type": "markdown",
   "id": "95311fa9-51f5-4812-bef2-0bed766301db",
   "metadata": {},
   "source": [
    "### Results"
   ]
  },
  {
   "cell_type": "code",
   "execution_count": 51,
   "id": "db48d003-7df1-404c-a8b4-c085113eddf5",
   "metadata": {
    "tags": []
   },
   "outputs": [
    {
     "name": "stdout",
     "output_type": "stream",
     "text": [
      "training performance = 69.262%\n",
      "test performance = 66.408%\n",
      "the best combination is:{'bootstrap': True, 'criterion': 'gini', 'max_depth': 9, 'max_features': 0.5, 'min_samples_split': 6, 'n_estimators': 110}\n"
     ]
    }
   ],
   "source": [
    "tools.performance(improved_Grid, X_train, X_test, y_train, y_test)\n",
    "print(f'the best combination is:{improved_Grid.best_params_}')"
   ]
  },
  {
   "cell_type": "code",
   "execution_count": 52,
   "id": "52c88a9a-81e1-46e2-8625-9bf6a3a94bdc",
   "metadata": {
    "tags": []
   },
   "outputs": [
    {
     "name": "stdout",
     "output_type": "stream",
     "text": [
      "[0.0403343  0.06562391 0.06728452 0.26847048 0.09164282 0.22545523\n",
      " 0.05643688 0.07843256 0.10631931]\n"
     ]
    }
   ],
   "source": [
    "best_model = improved_Grid.best_estimator_\n",
    "importances = best_model.feature_importances_\n",
    "print((importances))"
   ]
  },
  {
   "cell_type": "code",
   "execution_count": 53,
   "id": "85cd577b-74d9-456a-8420-0108b3081b2d",
   "metadata": {},
   "outputs": [
    {
     "data": {
      "text/plain": [
       "<Figure size 1000x800 with 0 Axes>"
      ]
     },
     "metadata": {},
     "output_type": "display_data"
    },
    {
     "data": {
      "image/png": "[encoded data removed]",
      "text/plain": [
       "<Figure size 640x480 with 2 Axes>"
      ]
     },
     "metadata": {},
     "output_type": "display_data"
    }
   ],
   "source": [
    "tools.confusion(label_encoder, improved_Grid, X_test, y_test)"
   ]
  },
  {
   "cell_type": "code",
   "execution_count": 3,
   "id": "df005e1d-f7a5-48db-9990-fc9673d7f08b",
   "metadata": {
    "tags": []
   },
   "outputs": [],
   "source": [
    "with open('performances_1.pkl', 'rb') as f:\n",
    "    perf = pk.load(f)\n",
    "    dist = pk.load(f)\n",
    "x = ['acc_x', 'acc_y', 'acc_z', 'stdev_x', 'stdev_y', 'stdev_z', 'Amag',\n",
    "       'dyn_x', 'dyn_y', 'dyn_z', 'stat_x',\n",
    "       'stat_y', 'stat_z', 'OBDA', 'VeDBA', 'roll', 'pitch']"
   ]
  },
  {
   "cell_type": "code",
   "execution_count": 6,
   "id": "aeebb90c-8364-4581-9d68-bd98be55af64",
   "metadata": {
    "tags": []
   },
   "outputs": [
    {
     "data": {
      "image/png": "[encoded data removed]",
      "text/plain": [
       "<Figure size 1400x600 with 1 Axes>"
      ]
     },
     "metadata": {},
     "output_type": "display_data"
    }
   ],
   "source": [
    "#plot a graph with the features importances in percentages\n",
    "plt.figure(figsize=(14,6))\n",
    "plt.title(\"Features Importance in percentages\")\n",
    "\n",
    "bars = plt.bar(x=x, height=dist*100)\n",
    "\n",
    "# Add percentages above each bar\n",
    "for bar in bars:\n",
    "    yval = bar.get_height()\n",
    "    plt.text(bar.get_x() + bar.get_width()/2, yval, f'{yval:.2f}%', ha='center', va='bottom')\n",
    "\n",
    "plt.show()"
   ]
  },
  {
   "cell_type": "code",
   "execution_count": 15,
   "id": "bb9c0731-84bf-41df-bdd3-815d0bf99571",
   "metadata": {
    "tags": []
   },
   "outputs": [],
   "source": [
    "with open('performances_final.pkl', 'wb') as f:\n",
    "    pk.dump(performances, f)\n",
    "    pk.dump(importances, f)"
   ]
  },
  {
   "cell_type": "code",
   "execution_count": 54,
   "id": "ffed4bfc-09fa-4ba3-9e65-5cd3122518e5",
   "metadata": {
    "tags": []
   },
   "outputs": [],
   "source": [
    "with open('best_RF.pkl', 'wb') as f:\n",
    "    pk.dump(best_model, f)\n",
    "    pk.dump(label_encoder, f)"
   ]
  }
 ],
 "metadata": {
  "kernelspec": {
   "display_name": "Python (amen_env)",
   "language": "python",
   "name": "amen_env"
  },
  "language_info": {
   "codemirror_mode": {
    "name": "ipython",
    "version": 3
   },
   "file_extension": ".py",
   "mimetype": "text/x-python",
   "name": "python",
   "nbconvert_exporter": "python",
   "pygments_lexer": "ipython3",
   "version": "3.10.12"
  }
 },
 "nbformat": 4,
 "nbformat_minor": 5
}
