{
 "cells": [
  {
   "cell_type": "code",
   "execution_count": null,
   "id": "2239e438-5fa9-4532-933c-0a77c31c3c9b",
   "metadata": {},
   "outputs": [],
   "source": [
    "\"\"\"\n",
    "File : data_clean_AX3.ipynb\n",
    "Created by : Amen Ouannes\n",
    "Brief : preparing the data from AX3 accelerometers to be used to the training\n",
    "\n",
    "\"\"\""
   ]
  },
  {
   "cell_type": "code",
   "execution_count": 4,
   "id": "d7fbdef7-b5eb-4e14-89a4-6d525a6d6857",
   "metadata": {},
   "outputs": [
    {
     "name": "stdout",
     "output_type": "stream",
     "text": [
      "/data/amen/amen_env/data_processing\n"
     ]
    }
   ],
   "source": [
    "#import libraries\n",
    "import AX3_tools as tools\n",
    "import data_O as clean\n",
    "import os as os\n",
    "import pandas as pd\n",
    "import importlib\n",
    "import pyarrow.feather as feather\n",
    "importlib.reload(tools)\n",
    "print(os.getcwd())"
   ]
  },
  {
   "cell_type": "code",
   "execution_count": 2,
   "id": "161b3382-b086-4985-862f-00e5c80ec21e",
   "metadata": {},
   "outputs": [],
   "source": [
    "#extract AX3 version 1 data\n",
    "calf_4 = pd.read_csv(\"/data/amen/amen_env/data_processing/data/79404_0000000000.cwa.up.down.hmm.sec.tab\", sep='\\t')\n",
    "calf_7 = pd.read_csv(\"/data/amen/amen_env/data_processing/data/78620_0000000000.cwa.up.down.hmm.sec.tab\", sep='\\t')\n",
    "calf_3 = pd.read_csv(\"/data/amen/amen_env/data_processing/data/80625_0000000000.cwa.up.down.hmm.sec.tab\", sep='\\t')\n",
    "calf_11 = pd.read_csv(\"/data/amen/amen_env/data_processing/data/82291_0000000000.cwa.up.down.hmm.sec.tab\", sep='\\t')\n",
    "calf_1 = pd.read_csv(\"/data/amen/amen_env/data_processing/data/79959_0000000000.cwa.up.down.hmm.sec.tab\", sep='\\t')"
   ]
  },
  {
   "cell_type": "code",
   "execution_count": 2,
   "id": "f4df51b2-09d9-4766-923f-5e6108232809",
   "metadata": {
    "tags": []
   },
   "outputs": [],
   "source": [
    "#extract AX3 version 2 data\n",
    "calf_4 = feather.read_table(\"/data/amen/amen_env/data_processing/data/79404_0000000000.cwa.sec.hmm.sec.feather\")\n",
    "calf_7 = feather.read_table(\"/data/amen/amen_env/data_processing/data/78620_0000000000.cwa.sec.hmm.sec.feather\")\n",
    "calf_3 = feather.read_table(\"/data/amen/amen_env/data_processing/data/80625_0000000000.cwa.sec.hmm.sec.feather\")\n",
    "calf_11 = feather.read_table(\"/data/amen/amen_env/data_processing/data/82291_0000000000.cwa.sec.hmm.sec.feather\")\n",
    "calf_1 = feather.read_table(\"/data/amen/amen_env/data_processing/data/79959_0000000000.cwa.sec.hmm.sec.feather\")"
   ]
  },
  {
   "cell_type": "code",
   "execution_count": 9,
   "id": "1a709233-2500-4e31-ac15-9140f262da55",
   "metadata": {
    "tags": []
   },
   "outputs": [],
   "source": [
    "#function to prepare the AX3's data\n",
    "def apply(data, num):\n",
    "    data = tools.treat(data)\n",
    "    data['calfNumber'] = num\n",
    "    clean.trunc(data, \"2024-05-04 00:00:00.0\", \"2024-05-11 00:00:00.0\")\n",
    "    return data"
   ]
  },
  {
   "cell_type": "code",
   "execution_count": 10,
   "id": "e8eb7f41-f225-4c5d-9267-adc44bfae982",
   "metadata": {},
   "outputs": [],
   "source": [
    "#apply to all dataframes\n",
    "calf_4 = apply(calf_4, 7480)\n",
    "calf_7 = apply(calf_7, 8855)\n",
    "calf_3 = apply(calf_3, 8851)\n",
    "calf_11 = apply(calf_11, 8846)\n",
    "calf_1 = apply(calf_1, 8854)"
   ]
  },
  {
   "cell_type": "code",
   "execution_count": 11,
   "id": "95b2a3f9-d716-4668-8f9e-bbe2fbd0c9a2",
   "metadata": {},
   "outputs": [
    {
     "name": "stdout",
     "output_type": "stream",
     "text": [
      "state\n",
      "down    1183842\n",
      "up       451279\n",
      "Name: count, dtype: int64\n",
      "1635121 1633321 1637581 1636261 1346581\n"
     ]
    }
   ],
   "source": [
    "print(calf_4['state'].value_counts())\n",
    "print(len(calf_4), len(calf_11), len(calf_7),len(calf_3), len(calf_1))"
   ]
  },
  {
   "cell_type": "code",
   "execution_count": 5,
   "id": "340004f1-d8f7-4665-9c2d-480141bf83d8",
   "metadata": {},
   "outputs": [
    {
     "name": "stdout",
     "output_type": "stream",
     "text": [
      "604800 604800 604800 604800 604800\n"
     ]
    }
   ],
   "source": [
    "#apply to all calves\n",
    "calf_4 = tools.regroup(calf_4)\n",
    "calf_7 = tools.regroup(calf_7)\n",
    "calf_3 = tools.regroup(calf_3)\n",
    "calf_11 = tools.regroup(calf_11)\n",
    "calf_1 = tools.regroup(calf_1)\n",
    "print(len(calf_4), len(calf_11), len(calf_7),len(calf_3), len(calf_1))"
   ]
  },
  {
   "cell_type": "code",
   "execution_count": 12,
   "id": "62e7c973-ae11-4c14-9ab9-db9cf5385f9c",
   "metadata": {},
   "outputs": [
    {
     "name": "stdout",
     "output_type": "stream",
     "text": [
      "data concatenated successfully!\n"
     ]
    }
   ],
   "source": [
    "#concatenate all dataframes\n",
    "AX3 = pd.concat([calf_1, calf_4, calf_11, calf_7, calf_3], ignore_index=True)\n",
    "assert (len(AX3) == len(calf_1) + len(calf_4) + len(calf_11) + len(calf_7) + len(calf_3))\n",
    "print(\"data concatenated successfully!\")"
   ]
  },
  {
   "cell_type": "code",
   "execution_count": 13,
   "id": "ce04381e-a657-480a-8f7f-7ab94e8ec7ee",
   "metadata": {},
   "outputs": [
    {
     "name": "stdout",
     "output_type": "stream",
     "text": [
      "data downloaded successfully!\n"
     ]
    }
   ],
   "source": [
    "#create a pickle\n",
    "tools.download(AX3, 'AX3.pkl')\n",
    "print('data downloaded successfully!')"
   ]
  }
 ],
 "metadata": {
  "kernelspec": {
   "display_name": "Python (amen_env)",
   "language": "python",
   "name": "amen_env"
  },
  "language_info": {
   "codemirror_mode": {
    "name": "ipython",
    "version": 3
   },
   "file_extension": ".py",
   "mimetype": "text/x-python",
   "name": "python",
   "nbconvert_exporter": "python",
   "pygments_lexer": "ipython3",
   "version": "3.10.12"
  }
 },
 "nbformat": 4,
 "nbformat_minor": 5
}
