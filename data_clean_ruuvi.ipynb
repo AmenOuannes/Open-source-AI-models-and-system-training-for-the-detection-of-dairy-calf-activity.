{
 "cells": [
  {
   "cell_type": "code",
   "execution_count": 1,
   "id": "25a1f3df-837c-4b96-9534-6ef80fa8d28a",
   "metadata": {
    "tags": []
   },
   "outputs": [
    {
     "data": {
      "text/plain": [
       "'\\nFile : data_clean_ruuvi.ipynb\\nCreated by : Amen Ouannes\\nBrief : preparing the data from ruuvis to be used to the training\\n\\n'"
      ]
     },
     "execution_count": 1,
     "metadata": {},
     "output_type": "execute_result"
    }
   ],
   "source": [
    "\"\"\"\n",
    "File : data_clean_ruuvi.ipynb\n",
    "Created by : Amen Ouannes\n",
    "Brief : preparing the data from ruuvis to be used to the training\n",
    "\n",
    "\"\"\""
   ]
  },
  {
   "cell_type": "code",
   "execution_count": 1,
   "id": "7baac7e0-8352-4e45-bd49-e3d76d6abce1",
   "metadata": {},
   "outputs": [
    {
     "name": "stdout",
     "output_type": "stream",
     "text": [
      "/data/amen/amen_env/data_processing\n"
     ]
    }
   ],
   "source": [
    "#import libraries\n",
    "import data_O as clean\n",
    "import RV_tools as tools\n",
    "import importlib\n",
    "import os as os\n",
    "import pandas as pd\n",
    "import pickle as pk\n",
    "\n",
    "\n",
    "from datetime import datetime\n",
    "importlib.reload(tools)\n",
    "print(os.getcwd())"
   ]
  },
  {
   "cell_type": "code",
   "execution_count": 2,
   "id": "42c03db1-e568-40a3-a498-02d93bcf01af",
   "metadata": {},
   "outputs": [],
   "source": [
    "#state the list of calves\n",
    "calf_4 = \"D1:B6:FC:34:99:3A\"\n",
    "calf_11 = \"D0:C9:50:5E:88:F8\"\n",
    "calf_7 = \"F4:CC:E1:C5:8A:A9\"\n",
    "calf_3 = \"FB:E5:24:5B:8A:68\"\n",
    "calf_1 = \"D3:6B:03:69:94:4E\"\n",
    "#create a dictionnary to contain all of my calves\n",
    "calves = {calf_1 : pd.DataFrame(), calf_4 : pd.DataFrame(), calf_11 : pd.DataFrame()\n",
    "          , calf_7 : pd.DataFrame(), calf_3 : pd.DataFrame()}"
   ]
  },
  {
   "cell_type": "code",
   "execution_count": 3,
   "id": "43241866-9cdb-4d76-9fd0-4a4f9974747f",
   "metadata": {},
   "outputs": [],
   "source": [
    "filenames = [\"/data/amen/amen_env/data_processing/data/0405_1.csv\",\"/data/amen/amen_env/data_processing/data/0405_2.csv\",\n",
    "             \"/data/amen/amen_env/data_processing/data/0405_3.csv\",\"/data/amen/amen_env/data_processing/data/0405_4.csv\",\n",
    "             \"/data/amen/amen_env/data_processing/data/0505_1.csv\",\"/data/amen/amen_env/data_processing/data/0505_2.csv\",\n",
    "             \"/data/amen/amen_env/data_processing/data/0505_3.csv\",\"/data/amen/amen_env/data_processing/data/0505_4.csv\",\n",
    "             \"/data/amen/amen_env/data_processing/data/0605_1.csv\",\"/data/amen/amen_env/data_processing/data/0605_2.csv\",\n",
    "             \"/data/amen/amen_env/data_processing/data/0605_3.csv\",\"/data/amen/amen_env/data_processing/data/0605_4.csv\",\n",
    "             \"/data/amen/amen_env/data_processing/data/0705_1.csv\",\"/data/amen/amen_env/data_processing/data/0705_2.csv\",\n",
    "             \"/data/amen/amen_env/data_processing/data/0705_3.csv\",\"/data/amen/amen_env/data_processing/data/0705_4.csv\",\n",
    "             \"/data/amen/amen_env/data_processing/data/0805_1.csv\",\"/data/amen/amen_env/data_processing/data/0805_2.csv\",\n",
    "             \"/data/amen/amen_env/data_processing/data/0805_3.csv\",\"/data/amen/amen_env/data_processing/data/0805_4.csv\",\n",
    "             \"/data/amen/amen_env/data_processing/data/0905_1.csv\",\"/data/amen/amen_env/data_processing/data/0905_2.csv\",\n",
    "             \"/data/amen/amen_env/data_processing/data/0905_3.csv\",\"/data/amen/amen_env/data_processing/data/0905_4.csv\",\n",
    "             \"/data/amen/amen_env/data_processing/data/1005_1.csv\",\"/data/amen/amen_env/data_processing/data/1005_2.csv\",\n",
    "             \"/data/amen/amen_env/data_processing/data/1005_3.csv\",\"/data/amen/amen_env/data_processing/data/1005_4.csv\",\n",
    "             \"/data/amen/amen_env/data_processing/data/1105_1.csv\"]"
   ]
  },
  {
   "cell_type": "code",
   "execution_count": 4,
   "id": "4067a690-45e3-402d-aaa2-84f99cfb336f",
   "metadata": {},
   "outputs": [
    {
     "name": "stdout",
     "output_type": "stream",
     "text": [
      "data upload done!\n"
     ]
    }
   ],
   "source": [
    "#Upload data day by day into every calf's dataframe\n",
    "for filename in filenames:\n",
    "    #create a clean dataframe\n",
    "    data = clean.processing(filename)\n",
    "    #classify new data by calf\n",
    "    calves = tools.classify(data, calves)\n",
    "\n",
    "print(\"data upload done!\")"
   ]
  },
  {
   "cell_type": "code",
   "execution_count": 5,
   "id": "63a6f771-82f1-40fc-9563-27dc5c0c1867",
   "metadata": {},
   "outputs": [
    {
     "name": "stdout",
     "output_type": "stream",
     "text": [
      "5899634 577736\n",
      "6016633 585956\n",
      "5855233 583621\n",
      "6056788 584282\n",
      "5872667 584209\n",
      "                      time     acc_x     acc_y     acc_z  st_dev_x  st_dev_y  \\\n",
      "0      2024-05-04 00:00:00 -0.444000 -0.040000 -0.932000  0.015319  0.009238   \n",
      "1      2024-05-04 00:00:01 -0.436800 -0.036800 -0.924800  0.007729  0.007729   \n",
      "2      2024-05-04 00:00:02 -0.446000 -0.030000 -0.926000  0.005657  0.010254   \n",
      "3      2024-05-04 00:00:03 -0.432000 -0.036923 -0.916923  0.006532  0.007686   \n",
      "4      2024-05-04 00:00:04 -0.440000 -0.035200 -0.929600  0.011314  0.010119   \n",
      "...                    ...       ...       ...       ...       ...       ...   \n",
      "577731 2024-05-10 23:59:56 -0.988444 -0.160000  0.288000  0.013333  0.011314   \n",
      "577732 2024-05-10 23:59:57 -1.016727 -0.061091  0.171636  0.041945  0.080580   \n",
      "577733 2024-05-10 23:59:58 -1.018182 -0.103273  0.161455  0.029738  0.056507   \n",
      "577734 2024-05-10 23:59:59 -0.955200 -0.206400  0.328000  0.069966  0.064200   \n",
      "577735 2024-05-11 00:00:00 -0.841600 -0.275200  0.588800  0.047464  0.013387   \n",
      "\n",
      "        st_dev_z     var_x     var_y     var_z  ...  ay_dynamic  az_dynamic  \\\n",
      "0       0.008000  0.000235  0.000085  0.000064  ...   -0.001977   -1.015600   \n",
      "1       0.014703  0.000060  0.000060  0.000216  ...    0.001223   -1.008400   \n",
      "2       0.013352  0.000032  0.000105  0.000178  ...    0.008023   -1.009600   \n",
      "3       0.010087  0.000043  0.000059  0.000102  ...    0.001100   -1.000523   \n",
      "4       0.011806  0.000128  0.000102  0.000139  ...    0.002823   -1.013200   \n",
      "...          ...       ...       ...       ...  ...         ...         ...   \n",
      "577731  0.016000  0.000178  0.000128  0.000256  ...   -0.121977    0.204400   \n",
      "577732  0.074393  0.001759  0.006493  0.005534  ...   -0.023068    0.088037   \n",
      "577733  0.030739  0.000884  0.003193  0.000945  ...   -0.065250    0.077855   \n",
      "577734  0.124679  0.004895  0.004122  0.015545  ...   -0.168377    0.244400   \n",
      "577735  0.065385  0.002253  0.000179  0.004275  ...   -0.237177    0.505200   \n",
      "\n",
      "        static_acc_x  static_acc_y  static_acc_z      OBDA     VeDBA  \\\n",
      "0          -0.443998     -0.040001     -0.932004  1.072505  1.362279   \n",
      "1          -0.441728     -0.034861     -0.926090  1.068039  1.361525   \n",
      "2          -0.438884     -0.032727     -0.922045  1.066209  1.360325   \n",
      "3          -0.437194     -0.034440     -0.922443  1.062207  1.358325   \n",
      "4          -0.438545     -0.037537     -0.926408  1.071529  1.364725   \n",
      "...              ...           ...           ...       ...       ...   \n",
      "577731     -0.993759     -0.132116      0.262885  0.310733  0.526119   \n",
      "577732     -1.016381     -0.089008      0.183289  0.245516  0.339129   \n",
      "577733     -1.015834     -0.108073      0.171519  0.250957  0.372584   \n",
      "577734     -0.955615     -0.183519      0.315309  0.340300  0.579275   \n",
      "577735     -0.841587     -0.275229      0.588828  0.560605  0.795275   \n",
      "\n",
      "            roll     pitch                mac  \n",
      "0       0.042892  0.444229  D3:6B:03:69:94:4E  \n",
      "1       0.039771  0.440953  D3:6B:03:69:94:4E  \n",
      "2       0.032386  0.448648  D3:6B:03:69:94:4E  \n",
      "3       0.040247  0.439983  D3:6B:03:69:94:4E  \n",
      "4       0.037848  0.441801  D3:6B:03:69:94:4E  \n",
      "...          ...       ...                ...  \n",
      "577731 -0.507099  1.249065  D3:6B:03:69:94:4E  \n",
      "577732 -0.341950  1.393491  D3:6B:03:69:94:4E  \n",
      "577733 -0.569058  1.384738  D3:6B:03:69:94:4E  \n",
      "577734 -0.561663  1.185375  D3:6B:03:69:94:4E  \n",
      "577735 -0.437222  0.913197  D3:6B:03:69:94:4E  \n",
      "\n",
      "[577736 rows x 28 columns]\n"
     ]
    }
   ],
   "source": [
    "# filter raw data and generate features\n",
    "for key, value in calves.items():\n",
    "    calves[key] = tools.filter(value)\n",
    "    #compare old length to new length\n",
    "    print(len(value), len(calves[key]))\n",
    "    \n",
    "print(calves[calf_1])"
   ]
  },
  {
   "cell_type": "code",
   "execution_count": 6,
   "id": "3ec93e18-ffcf-40ba-bddd-2eff6af8a183",
   "metadata": {},
   "outputs": [
    {
     "name": "stdout",
     "output_type": "stream",
     "text": [
      "data downloaded!\n"
     ]
    }
   ],
   "source": [
    "#download data\n",
    "with open(\"dataset.pkl\", 'wb') as f:\n",
    "    for value in calves.values():\n",
    "        pk.dump(value, f)\n",
    "print('data downloaded!')\n"
   ]
  },
  {
   "cell_type": "code",
   "execution_count": 7,
   "id": "3b772aeb-7eea-4394-bf4f-ded644b0cf63",
   "metadata": {},
   "outputs": [
    {
     "name": "stdout",
     "output_type": "stream",
     "text": [
      "test réussi!\n"
     ]
    }
   ],
   "source": [
    "#verify that data was installed correctly\n",
    "with open(\"dataset.pkl\", 'rb')as f:\n",
    "    for value in (calves.values()):\n",
    "        assert(pk.load(f).equals(value))\n",
    "print('test réussi!')"
   ]
  }
 ],
 "metadata": {
  "kernelspec": {
   "display_name": "Python (amen_env)",
   "language": "python",
   "name": "amen_env"
  },
  "language_info": {
   "codemirror_mode": {
    "name": "ipython",
    "version": 3
   },
   "file_extension": ".py",
   "mimetype": "text/x-python",
   "name": "python",
   "nbconvert_exporter": "python",
   "pygments_lexer": "ipython3",
   "version": "3.10.12"
  }
 },
 "nbformat": 4,
 "nbformat_minor": 5
}
